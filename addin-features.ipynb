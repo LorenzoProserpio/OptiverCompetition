{
 "cells": [
  {
   "cell_type": "markdown",
   "id": "b2786147",
   "metadata": {
    "papermill": {
     "duration": 0.027212,
     "end_time": "2021-09-22T22:11:45.514491",
     "exception": false,
     "start_time": "2021-09-22T22:11:45.487279",
     "status": "completed"
    },
    "tags": []
   },
   "source": [
    "# GPU accelerated solution using NVIDIA RAPIDS cudf and cuml\n",
    "# Data loading, preprocessing and feature engineering takes less than 3min in GPU."
   ]
  },
  {
   "cell_type": "code",
   "execution_count": 1,
   "id": "f40cba69",
   "metadata": {
    "execution": {
     "iopub.execute_input": "2021-09-22T22:11:45.573105Z",
     "iopub.status.busy": "2021-09-22T22:11:45.571622Z",
     "iopub.status.idle": "2021-09-22T22:11:51.168902Z",
     "shell.execute_reply": "2021-09-22T22:11:51.168293Z",
     "shell.execute_reply.started": "2021-09-22T21:44:54.932056Z"
    },
    "papermill": {
     "duration": 5.628576,
     "end_time": "2021-09-22T22:11:51.169063",
     "exception": false,
     "start_time": "2021-09-22T22:11:45.540487",
     "status": "completed"
    },
    "tags": []
   },
   "outputs": [
    {
     "data": {
      "text/html": [
       "<style type='text/css'>\n",
       ".datatable table.frame { margin-bottom: 0; }\n",
       ".datatable table.frame thead { border-bottom: none; }\n",
       ".datatable table.frame tr.coltypes td {  color: #FFFFFF;  line-height: 6px;  padding: 0 0.5em;}\n",
       ".datatable .bool    { background: #DDDD99; }\n",
       ".datatable .object  { background: #565656; }\n",
       ".datatable .int     { background: #5D9E5D; }\n",
       ".datatable .float   { background: #4040CC; }\n",
       ".datatable .str     { background: #CC4040; }\n",
       ".datatable .time    { background: #40CC40; }\n",
       ".datatable .row_index {  background: var(--jp-border-color3);  border-right: 1px solid var(--jp-border-color0);  color: var(--jp-ui-font-color3);  font-size: 9px;}\n",
       ".datatable .frame tbody td { text-align: left; }\n",
       ".datatable .frame tr.coltypes .row_index {  background: var(--jp-border-color0);}\n",
       ".datatable th:nth-child(2) { padding-left: 12px; }\n",
       ".datatable .hellipsis {  color: var(--jp-cell-editor-border-color);}\n",
       ".datatable .vellipsis {  background: var(--jp-layout-color0);  color: var(--jp-cell-editor-border-color);}\n",
       ".datatable .na {  color: var(--jp-cell-editor-border-color);  font-size: 80%;}\n",
       ".datatable .sp {  opacity: 0.25;}\n",
       ".datatable .footer { font-size: 9px; }\n",
       ".datatable .frame_dimensions {  background: var(--jp-border-color3);  border-top: 1px solid var(--jp-border-color0);  color: var(--jp-ui-font-color3);  display: inline-block;  opacity: 0.6;  padding: 1px 10px 1px 5px;}\n",
       "</style>\n"
      ],
      "text/plain": [
       "<IPython.core.display.HTML object>"
      ]
     },
     "metadata": {},
     "output_type": "display_data"
    }
   ],
   "source": [
    "import pandas\n",
    "import numpy as np\n",
    "import cudf as pd\n",
    "import cupy as cp\n",
    "\n",
    "import glob\n",
    "import os\n",
    "import gc\n",
    "import time\n",
    "\n",
    "from joblib import Parallel, delayed\n",
    "\n",
    "from sklearn import preprocessing, model_selection\n",
    "from sklearn.preprocessing import MinMaxScaler\n",
    "from sklearn.preprocessing import QuantileTransformer\n",
    "from sklearn.metrics import r2_score\n",
    "from sklearn.model_selection import GroupKFold\n",
    "from scipy.optimize import minimize\n",
    "\n",
    "\n",
    "import matplotlib.pyplot as plt \n",
    "import seaborn as sns\n",
    "import numpy.matlib\n",
    "from catboost import Pool, CatBoostRegressor\n",
    "from tqdm import tqdm\n",
    "from sklearn.metrics import roc_auc_score\n",
    "from sklearn.model_selection import KFold\n",
    "import xgboost as xgb\n",
    "import lightgbm as lgb\n",
    "from catboost import CatBoostRegressor\n",
    "import cuml\n",
    "from cuml.neighbors import KNeighborsRegressor\n",
    "from cuml import LinearRegression\n",
    "from cuml import Ridge\n",
    "from cuml.ensemble import RandomForestRegressor\n",
    "\n",
    "\n",
    "path_submissions = '/'\n",
    "\n",
    "target_name = 'target'\n",
    "scores_folds = {}\n",
    "\n",
    "def convert_to_32bit(df):\n",
    "    for f in df.columns:\n",
    "        if df[f].dtype == 'int64':\n",
    "            df[f] = df[f].astype('int32')\n",
    "        if df[f].dtype == 'float64':\n",
    "            df[f] = df[f].astype('float32')\n",
    "    return df"
   ]
  },
  {
   "cell_type": "markdown",
   "id": "4644457f",
   "metadata": {
    "papermill": {
     "duration": 0.025722,
     "end_time": "2021-09-22T22:11:51.227308",
     "exception": false,
     "start_time": "2021-09-22T22:11:51.201586",
     "status": "completed"
    },
    "tags": []
   },
   "source": [
    "# Loading train and test sets"
   ]
  },
  {
   "cell_type": "code",
   "execution_count": 2,
   "id": "9494740e",
   "metadata": {
    "execution": {
     "iopub.execute_input": "2021-09-22T22:11:51.285253Z",
     "iopub.status.busy": "2021-09-22T22:11:51.284746Z",
     "iopub.status.idle": "2021-09-22T22:11:55.642579Z",
     "shell.execute_reply": "2021-09-22T22:11:55.643225Z",
     "shell.execute_reply.started": "2021-09-22T21:45:00.399984Z"
    },
    "papermill": {
     "duration": 4.390346,
     "end_time": "2021-09-22T22:11:55.643598",
     "exception": false,
     "start_time": "2021-09-22T22:11:51.253252",
     "status": "completed"
    },
    "tags": []
   },
   "outputs": [
    {
     "name": "stdout",
     "output_type": "stream",
     "text": [
      "(428932, 5)\n",
      "(3, 4)\n"
     ]
    }
   ],
   "source": [
    "# data directory\n",
    "data_dir = '../input/optiver-realized-volatility-prediction/'\n",
    "\n",
    "train = pd.read_csv('../input/optiver-realized-volatility-prediction/train.csv')\n",
    "test = pd.read_csv('../input/optiver-realized-volatility-prediction/test.csv')\n",
    "\n",
    "train['row_id'] = train['stock_id'].astype(str) + '-' + train['time_id'].astype(str)\n",
    "test['row_id'] = test['stock_id'].astype(str) + '-' + test['time_id'].astype(str)\n",
    "\n",
    "train['is_train'] = 1\n",
    "test['is_train'] = 0\n",
    "\n",
    "train = convert_to_32bit(train)\n",
    "test = convert_to_32bit(test)\n",
    "\n",
    "print( train.shape )\n",
    "print( test.shape )"
   ]
  },
  {
   "cell_type": "code",
   "execution_count": 3,
   "id": "b61b23c4",
   "metadata": {
    "execution": {
     "iopub.execute_input": "2021-09-22T22:11:55.700259Z",
     "iopub.status.busy": "2021-09-22T22:11:55.699480Z",
     "iopub.status.idle": "2021-09-22T22:11:55.728049Z",
     "shell.execute_reply": "2021-09-22T22:11:55.727570Z",
     "shell.execute_reply.started": "2021-09-22T21:45:04.947821Z"
    },
    "papermill": {
     "duration": 0.057352,
     "end_time": "2021-09-22T22:11:55.728161",
     "exception": false,
     "start_time": "2021-09-22T22:11:55.670809",
     "status": "completed"
    },
    "tags": []
   },
   "outputs": [
    {
     "name": "stdout",
     "output_type": "stream",
     "text": [
      "    stock_id  time_id    target row_id  is_train\n",
      "0          0        5  0.004136    0-5         1\n",
      "1          0       11  0.001445   0-11         1\n",
      "2          0       16  0.002168   0-16         1\n",
      "3          0       31  0.002195   0-31         1\n",
      "4          0       62  0.001747   0-62         1\n",
      "5          0       72  0.004912   0-72         1\n",
      "6          0       97  0.009388   0-97         1\n",
      "7          0      103  0.004120  0-103         1\n",
      "8          0      109  0.002182  0-109         1\n",
      "9          0      123  0.002669  0-123         1\n",
      "10         0      128  0.003702  0-128         1\n",
      "11         0      146  0.005397  0-146         1\n",
      "12         0      147  0.002751  0-147         1\n",
      "13         0      152  0.003969  0-152         1\n",
      "14         0      157  0.005525  0-157         1\n",
      "15         0      159  0.002077  0-159         1\n",
      "16         0      169  0.003365  0-169         1\n",
      "17         0      207  0.007260  0-207         1\n",
      "18         0      211  0.001707  0-211         1\n",
      "19         0      213  0.002214  0-213         1\n"
     ]
    }
   ],
   "source": [
    "print(train.head(20))"
   ]
  },
  {
   "cell_type": "code",
   "execution_count": 4,
   "id": "532e196d",
   "metadata": {
    "execution": {
     "iopub.execute_input": "2021-09-22T22:11:55.787726Z",
     "iopub.status.busy": "2021-09-22T22:11:55.786918Z",
     "iopub.status.idle": "2021-09-22T22:11:55.795107Z",
     "shell.execute_reply": "2021-09-22T22:11:55.794501Z",
     "shell.execute_reply.started": "2021-09-22T21:45:04.977375Z"
    },
    "papermill": {
     "duration": 0.040107,
     "end_time": "2021-09-22T22:11:55.795248",
     "exception": false,
     "start_time": "2021-09-22T22:11:55.755141",
     "status": "completed"
    },
    "tags": []
   },
   "outputs": [
    {
     "name": "stdout",
     "output_type": "stream",
     "text": [
      "   stock_id  time_id row_id  is_train\n",
      "0         0        4    0-4         0\n",
      "1         0       32   0-32         0\n",
      "2         0       34   0-34         0\n"
     ]
    }
   ],
   "source": [
    "print(test.head(20))"
   ]
  },
  {
   "cell_type": "markdown",
   "id": "fb25a9e0",
   "metadata": {
    "papermill": {
     "duration": 0.026491,
     "end_time": "2021-09-22T22:11:55.849319",
     "exception": false,
     "start_time": "2021-09-22T22:11:55.822828",
     "status": "completed"
    },
    "tags": []
   },
   "source": [
    "# Checking how many stock_id there are in train and test"
   ]
  },
  {
   "cell_type": "code",
   "execution_count": 5,
   "id": "bf093a94",
   "metadata": {
    "execution": {
     "iopub.execute_input": "2021-09-22T22:11:55.907937Z",
     "iopub.status.busy": "2021-09-22T22:11:55.907031Z",
     "iopub.status.idle": "2021-09-22T22:11:55.921028Z",
     "shell.execute_reply": "2021-09-22T22:11:55.920455Z",
     "shell.execute_reply.started": "2021-09-22T21:45:05.000339Z"
    },
    "papermill": {
     "duration": 0.045361,
     "end_time": "2021-09-22T22:11:55.921169",
     "exception": false,
     "start_time": "2021-09-22T22:11:55.875808",
     "status": "completed"
    },
    "tags": []
   },
   "outputs": [
    {
     "name": "stdout",
     "output_type": "stream",
     "text": [
      "Sizes: 112 1\n",
      "Train stocks: [  0   1   2   3   4   5   6   7   8   9  10  11  13  14  15  16  17  18\n",
      "  19  20  21  22  23  26  27  28  29  30  31  32  33  34  35  36  37  38\n",
      "  39  40  41  42  43  44  46  47  48  50  51  52  53  55  56  58  59  60\n",
      "  61  62  63  64  66  67  68  69  70  72  73  74  75  76  77  78  80  81\n",
      "  82  83  84  85  86  87  88  89  90  93  94  95  96  97  98  99 100 101\n",
      " 102 103 104 105 107 108 109 110 111 112 113 114 115 116 118 119 120 122\n",
      " 123 124 125 126]\n",
      "Test stocks: [0]\n"
     ]
    }
   ],
   "source": [
    "train_stock_ids = train['stock_id'].to_pandas().unique()\n",
    "test_stock_ids = test['stock_id'].to_pandas().unique()\n",
    "print( 'Sizes:', len(train_stock_ids), len(test_stock_ids) )\n",
    "print( 'Train stocks:', train_stock_ids )\n",
    "print( 'Test stocks:', test_stock_ids )"
   ]
  },
  {
   "cell_type": "code",
   "execution_count": 6,
   "id": "e4cdd40d",
   "metadata": {
    "execution": {
     "iopub.execute_input": "2021-09-22T22:11:55.978979Z",
     "iopub.status.busy": "2021-09-22T22:11:55.978149Z",
     "iopub.status.idle": "2021-09-22T22:11:56.009276Z",
     "shell.execute_reply": "2021-09-22T22:11:56.008878Z",
     "shell.execute_reply.started": "2021-09-22T21:45:05.037164Z"
    },
    "papermill": {
     "duration": 0.060597,
     "end_time": "2021-09-22T22:11:56.009379",
     "exception": false,
     "start_time": "2021-09-22T22:11:55.948782",
     "status": "completed"
    },
    "tags": []
   },
   "outputs": [],
   "source": [
    "# Function to preprocess book data (for each stock id)\n",
    "def book_preprocessor(file_path):\n",
    "    df = pd.read_parquet(file_path)\n",
    "    df = convert_to_32bit(df)\n",
    "    \n",
    "    # Calculate Wap\n",
    "    df['wap1'] = (df['bid_price1'] * df['ask_size1'] + df['ask_price1'] * df['bid_size1']) / (df['bid_size1'] + df['ask_size1'])\n",
    "    df['wap2'] = (df['bid_price2'] * df['ask_size2'] + df['ask_price2'] * df['bid_size2']) / (df['bid_size2'] + df['ask_size2'])\n",
    "    df['wap3'] = (df['bid_price1'] * df['bid_size1'] + df['ask_price1'] * df['ask_size1']) / (df['bid_size1'] + df['ask_size1'])\n",
    "    df['wap4'] = (df['bid_price2'] * df['bid_size2'] + df['ask_price2'] * df['ask_size2']) / (df['bid_size2'] + df['ask_size2'])\n",
    "    \n",
    "    # Calculate log returns\n",
    "    df['log_return1'] = df['wap1'].log()\n",
    "    df['log_return1'] = df['log_return1'] - df.groupby(['time_id'])['log_return1'].shift(1).reset_index(drop=True)\n",
    "\n",
    "    df['log_return2'] = df['wap2'].log()\n",
    "    df['log_return2'] = df['log_return2'] - df.groupby(['time_id'])['log_return2'].shift(1).reset_index(drop=True)\n",
    "\n",
    "    df['log_return3'] = df['wap3'].log()\n",
    "    df['log_return3'] = df['log_return3'] - df.groupby(['time_id'])['log_return3'].shift(1).reset_index(drop=True)\n",
    "\n",
    "    df['log_return4'] = df['wap4'].log()\n",
    "    df['log_return4'] = df['log_return4'] - df.groupby(['time_id'])['log_return4'].shift(1).reset_index(drop=True)\n",
    "    \n",
    "    # Calculate wap balance\n",
    "    df['wap_balance'] = abs(df['wap1'] - df['wap2'])\n",
    "    \n",
    "    # Calculate spread\n",
    "    df['price_spread'] = (df['ask_price1'] - df['bid_price1']) / ((df['ask_price1'] + df['bid_price1']) / 2)\n",
    "    df['price_spread2'] = (df['ask_price2'] - df['bid_price2']) / ((df['ask_price2'] + df['bid_price2']) / 2)\n",
    "    df['bid_spread'] = df['bid_price1'] - df['bid_price2']\n",
    "    df['ask_spread'] = df['ask_price1'] - df['ask_price2']\n",
    "    df[\"bid_ask_spread\"] = abs(df['bid_spread'] - df['ask_spread'])\n",
    "    df['total_volume'] = (df['ask_size1'] + df['ask_size2']) + (df['bid_size1'] + df['bid_size2'])\n",
    "    df['volume_imbalance'] = abs((df['ask_size1'] + df['ask_size2']) - (df['bid_size1'] + df['bid_size2']))\n",
    "    \n",
    "    df['log_return1_sqr'] = df['log_return1'] ** 2\n",
    "    df['log_return2_sqr'] = df['log_return2'] ** 2\n",
    "    df['log_return3_sqr'] = df['log_return3'] ** 2\n",
    "    df['log_return4_sqr'] = df['log_return4'] ** 2\n",
    "    \n",
    "    df['momentum'] = ((df['wap1']-df['bid_price1']) / (df['ask_price1']-df['bid_price1']))*2 - 1\n",
    "    df['momentum_unsigned'] = np.abs(df['momentum'])   \n",
    "    \n",
    "    df['volume_momentum'] = ((df['bid_size1']+df['bid_size2']) / (df['bid_size1']+df['bid_size2']+df['ask_size1']+df['ask_size2']))*2 - 1\n",
    "    df['volume_momentum_unsigned'] = np.abs(df['volume_momentum'])\n",
    "    \n",
    "    # Dict for aggregations\n",
    "    create_feature_dict = {\n",
    "        'wap1': ['sum', 'std', 'min','max'],\n",
    "        'wap2': ['sum', 'std', 'min','max'],\n",
    "        'wap3': ['sum', 'std', 'min','max'],\n",
    "        'wap4': ['sum', 'std', 'min','max'],\n",
    "        'log_return1_sqr': ['sum', 'std', 'min','max'],\n",
    "        'log_return2_sqr': ['sum', 'std', 'min','max'],\n",
    "        'log_return3_sqr': ['sum', 'std', 'min','max'],\n",
    "        'log_return4_sqr': ['sum', 'std', 'min','max'],\n",
    "        'wap_balance': ['sum', 'mean', 'min','max'],\n",
    "        'price_spread':['sum', 'mean', 'min','max'],\n",
    "        'price_spread2':['sum', 'mean', 'min','max'],\n",
    "        'bid_spread':['sum', 'mean', 'min','max'],\n",
    "        'ask_spread':['sum', 'mean', 'min','max'],\n",
    "        'total_volume':['sum', 'mean', 'min','max'],\n",
    "        'volume_imbalance':['sum', 'mean', 'min','max'],\n",
    "        \"bid_ask_spread\":['sum',  'mean', 'min','max'],\n",
    "        'momentum':['sum','std'],\n",
    "        'momentum_unsigned':['sum','std'],\n",
    "        'volume_momentum':['sum','std'],\n",
    "        'volume_momentum_unsigned':['sum','std'],\n",
    "    }\n",
    "    create_feature_dict_time = {\n",
    "        'log_return1_sqr': ['sum', 'std', 'min','max'],\n",
    "        'log_return2_sqr': ['sum', 'std', 'min','max'],\n",
    "        'log_return3_sqr': ['sum', 'std', 'min','max'],\n",
    "        'log_return4_sqr': ['sum', 'std', 'min','max'],\n",
    "    }\n",
    "    \n",
    "    def get_stats_window(fe_dict,seconds_in_bucket, add_suffix = False):\n",
    "        df_feature = df[df['seconds_in_bucket'] >= seconds_in_bucket].groupby(['time_id']).agg(fe_dict).reset_index()\n",
    "        df_feature.columns = ['_'.join(col) for col in df_feature.columns]\n",
    "        if add_suffix:\n",
    "            df_feature.columns = [col + '_' + str(seconds_in_bucket) for col in df_feature.columns]\n",
    "        return df_feature\n",
    "    \n",
    "    # Get the stats for different windows\n",
    "    df_feature = get_stats_window(create_feature_dict,seconds_in_bucket = 0, add_suffix = False)\n",
    "    df_feature_500 = get_stats_window(create_feature_dict_time,seconds_in_bucket = 500, add_suffix = True)\n",
    "    df_feature_400 = get_stats_window(create_feature_dict_time,seconds_in_bucket = 400, add_suffix = True)\n",
    "    df_feature_300 = get_stats_window(create_feature_dict_time,seconds_in_bucket = 300, add_suffix = True)\n",
    "    df_feature_200 = get_stats_window(create_feature_dict_time,seconds_in_bucket = 200, add_suffix = True)\n",
    "    df_feature_100 = get_stats_window(create_feature_dict_time,seconds_in_bucket = 100, add_suffix = True)\n",
    "\n",
    "    # Merge all\n",
    "    df_feature = df_feature.merge(df_feature_500, how = 'left', left_on = 'time_id_', right_on = 'time_id__500')\n",
    "    df_feature = df_feature.merge(df_feature_400, how = 'left', left_on = 'time_id_', right_on = 'time_id__400')\n",
    "    df_feature = df_feature.merge(df_feature_300, how = 'left', left_on = 'time_id_', right_on = 'time_id__300')\n",
    "    df_feature = df_feature.merge(df_feature_200, how = 'left', left_on = 'time_id_', right_on = 'time_id__200')\n",
    "    df_feature = df_feature.merge(df_feature_100, how = 'left', left_on = 'time_id_', right_on = 'time_id__100')\n",
    "    \n",
    "    # Drop tmp columns\n",
    "    df_feature.drop(['time_id__500','time_id__400', 'time_id__300', 'time_id__200','time_id__100'], axis = 1, inplace = True)\n",
    "    \n",
    "    # Create row_id so we can merge\n",
    "    stock_id = file_path.split('=')[1]\n",
    "    df_feature['stock_id'] = str(stock_id) + '-'\n",
    "\n",
    "    df_feature['row_id'] = df_feature['stock_id'] + df_feature['time_id_'].astype(str)\n",
    "    \n",
    "    return df_feature"
   ]
  },
  {
   "cell_type": "code",
   "execution_count": 7,
   "id": "45d2f624",
   "metadata": {
    "execution": {
     "iopub.execute_input": "2021-09-22T22:11:56.082779Z",
     "iopub.status.busy": "2021-09-22T22:11:56.070913Z",
     "iopub.status.idle": "2021-09-22T22:11:56.085773Z",
     "shell.execute_reply": "2021-09-22T22:11:56.085319Z",
     "shell.execute_reply.started": "2021-09-22T21:45:05.103430Z"
    },
    "papermill": {
     "duration": 0.049431,
     "end_time": "2021-09-22T22:11:56.085879",
     "exception": false,
     "start_time": "2021-09-22T22:11:56.036448",
     "status": "completed"
    },
    "tags": []
   },
   "outputs": [
    {
     "name": "stdout",
     "output_type": "stream",
     "text": [
      "CPU times: user 5 µs, sys: 0 ns, total: 5 µs\n",
      "Wall time: 9.3 µs\n"
     ]
    }
   ],
   "source": [
    "%%time\n",
    "\n",
    "def transform(df, groupby='time_id', feat='price', agg='mean' ):\n",
    "    return df.merge( \n",
    "        df.groupby(groupby)[feat].agg(agg).reset_index().rename({feat:feat+'_'+agg}, axis=1),\n",
    "        on=groupby,\n",
    "        how='left' \n",
    "    )\n",
    "\n",
    "# Function to preprocess trade data (for each stock id)\n",
    "def trade_preprocessor(file_path):\n",
    "    df = pd.read_parquet(file_path)\n",
    "    df = convert_to_32bit(df)\n",
    "    \n",
    "    df['log_return'] = df['price'].log()\n",
    "    df['log_return'] = df['log_return'] - df.groupby(['time_id'])['log_return'].shift(1).reset_index(drop=True)\n",
    "    df['log_return_sqr'] = df['log_return'] ** 2\n",
    "    \n",
    "    df['amount']=df['price']*df['size']\n",
    "    \n",
    "    # Dict for aggregations\n",
    "    create_feature_dict = {\n",
    "        'log_return_sqr': ['sum', 'std','max', 'min'],\n",
    "        'seconds_in_bucket':['nunique','std', 'mean','max', 'min'],\n",
    "        'size':['sum', 'nunique','std','max', 'min'],\n",
    "        'order_count':['sum','nunique','max','min','std'],\n",
    "        'amount':['sum','std','max','min'],\n",
    "    }\n",
    "    create_feature_dict_time = {\n",
    "        'log_return_sqr': ['sum', 'std','max','min'],\n",
    "        'seconds_in_bucket':['nunique'],\n",
    "        'size':['sum','mean','std','min','max'],\n",
    "        'order_count':['sum','mean','std','min','max'],\n",
    "    }\n",
    "    # Function to get group stats for different windows (seconds in bucket)\n",
    "    def get_stats_window(fe_dict,seconds_in_bucket, add_suffix = False):\n",
    "        # Group by the window\n",
    "        df_feature = df[df['seconds_in_bucket'] >= seconds_in_bucket].groupby(['time_id']).agg(fe_dict).reset_index()\n",
    "        # Rename columns joining suffix\n",
    "        df_feature.columns = ['_'.join(col) for col in df_feature.columns]\n",
    "        # Add a suffix to differentiate windows\n",
    "        if add_suffix:\n",
    "            df_feature.columns = [col + '_' + str(seconds_in_bucket) for col in df_feature.columns]\n",
    "        return df_feature\n",
    "\n",
    "    # Get the stats for different windows\n",
    "    df_feature = get_stats_window(create_feature_dict,seconds_in_bucket = 0, add_suffix = False)\n",
    "    df_feature_500 = get_stats_window(create_feature_dict_time,seconds_in_bucket = 500, add_suffix = True)\n",
    "    df_feature_400 = get_stats_window(create_feature_dict_time,seconds_in_bucket = 400, add_suffix = True)\n",
    "    df_feature_300 = get_stats_window(create_feature_dict_time,seconds_in_bucket = 300, add_suffix = True)\n",
    "    df_feature_200 = get_stats_window(create_feature_dict_time,seconds_in_bucket = 200, add_suffix = True)\n",
    "    df_feature_100 = get_stats_window(create_feature_dict_time,seconds_in_bucket = 100, add_suffix = True)\n",
    "    df = df.sort_values(['time_id','seconds_in_bucket']).reset_index(drop=True)\n",
    "    \n",
    "    df = transform(df, groupby='time_id', feat='price', agg='mean' )\n",
    "    df = transform(df, groupby='time_id', feat='price', agg='sum' )\n",
    "    df = transform(df, groupby='time_id', feat='size', agg='mean' )\n",
    "    df['price_dif'] = ((df['price'] - df.groupby(['time_id'])['price'].shift(1).reset_index(drop=True)) / df['price']).fillna(0.)\n",
    "    df['tendencyV'] = df['size'] * df['price_dif']\n",
    "    df['f_max'] = 1 * (df['price'] >= df['price_mean'])\n",
    "    df['f_min'] = 1 * (df['price'] < df['price_mean'])\n",
    "    df['df_max'] = 1 * (df['price_dif'] >= 0)\n",
    "    df['df_min'] = 1 * (df['price_dif'] < 0)\n",
    "    df['abs_dif'] = (df['price'] - df['price_mean']).abs()\n",
    "    df['price_sqr'] = df['price']**2\n",
    "    df['size_dif'] = (df['size'] - df['size_mean']).abs()\n",
    "    df['size_sqr'] = df['size']**2\n",
    "    df['iqr_p25'] = df.groupby(['time_id'])['price'].quantile(0.15).reset_index(drop=True)\n",
    "    df['iqr_p75'] = df.groupby(['time_id'])['price'].quantile(0.85).reset_index(drop=True)\n",
    "    df['iqr_p_v25'] = df.groupby(['time_id'])['size'].quantile(0.15).reset_index(drop=True)\n",
    "    df['iqr_p_v75'] = df.groupby(['time_id'])['size'].quantile(0.85).reset_index(drop=True)\n",
    "\n",
    "    dt = df.groupby('time_id')[['tendencyV','price','price_dif','f_max','f_min','df_max','df_min','abs_dif','price_sqr','size_dif','size_sqr','iqr_p25','iqr_p75','iqr_p_v25','iqr_p_v75']].agg(\n",
    "        {\n",
    "            'tendencyV':['sum','std','max', 'min'],\n",
    "            'price':['mean','std','max', 'min'],\n",
    "            'price_dif':['mean','std','max', 'min'],\n",
    "            'f_max':['mean','std','max', 'min'],\n",
    "            'f_min':['mean','std','max', 'min'],\n",
    "            'df_max':['mean','std','max', 'min'],\n",
    "            'df_min':['mean','std','max', 'min'],\n",
    "            'abs_dif':['median','std','max', 'min'],\n",
    "            'price_sqr':['sum','std','max', 'min'],\n",
    "            'size_dif':['median','std','max', 'min'],\n",
    "            'size_sqr':['sum','std','max', 'min'],\n",
    "            'iqr_p25':['mean','std','max', 'min'],\n",
    "            'iqr_p75':['mean','std','max', 'min'],\n",
    "            'iqr_p_v25':['mean','std','max', 'min'],\n",
    "            'iqr_p_v75':['mean','std','max', 'min'],\n",
    "        }\n",
    "    )\n",
    "    dt.columns = [i+'_'+j for i, j in dt.columns] \n",
    "    df_feature = df_feature.merge(dt, left_on='time_id_', right_index=True, how='left')\n",
    "    \n",
    "    # Merge all\n",
    "    df_feature = df_feature.merge(df_feature_500, how = 'left', left_on = 'time_id_', right_on = 'time_id__500')\n",
    "    df_feature = df_feature.merge(df_feature_400, how = 'left', left_on = 'time_id_', right_on = 'time_id__400')\n",
    "    df_feature = df_feature.merge(df_feature_300, how = 'left', left_on = 'time_id_', right_on = 'time_id__300')\n",
    "    df_feature = df_feature.merge(df_feature_200, how = 'left', left_on = 'time_id_', right_on = 'time_id__200')\n",
    "    df_feature = df_feature.merge(df_feature_100, how = 'left', left_on = 'time_id_', right_on = 'time_id__100')\n",
    "    \n",
    "    # Drop tmp columns\n",
    "    df_feature = df_feature.sort_values(['time_id_' ]).reset_index(drop=True)\n",
    "    \n",
    "    stock_id = file_path.split('=')[1]\n",
    "    df_feature['stock_id'] = str(stock_id) + '-'\n",
    "    df_feature['row_id'] = df_feature['stock_id'] + df_feature['time_id_'].astype(str)\n",
    "    df_feature.drop(['time_id__500','time_id__400', 'time_id__300', 'time_id__200', 'time_id_','time_id__100','stock_id'], axis = 1, inplace = True)\n",
    "\n",
    "    fnames = ['trade_' + f for f in df_feature.columns]\n",
    "    fnames[-1] = 'row_id'\n",
    "    df_feature.columns = fnames\n",
    "\n",
    "    return df_feature"
   ]
  },
  {
   "cell_type": "markdown",
   "id": "1f58bbef",
   "metadata": {
    "papermill": {
     "duration": 0.02695,
     "end_time": "2021-09-22T22:11:56.139997",
     "exception": false,
     "start_time": "2021-09-22T22:11:56.113047",
     "status": "completed"
    },
    "tags": []
   },
   "source": [
    "# Process all train .parquet files. Create features using cudf (GPU)\n",
    "# Note cudf speed to load and apply all feature engineering in all train set stocks."
   ]
  },
  {
   "cell_type": "code",
   "execution_count": 8,
   "id": "c871af02",
   "metadata": {
    "execution": {
     "iopub.execute_input": "2021-09-22T22:11:56.199983Z",
     "iopub.status.busy": "2021-09-22T22:11:56.199238Z",
     "iopub.status.idle": "2021-09-22T22:14:34.572493Z",
     "shell.execute_reply": "2021-09-22T22:14:34.572920Z",
     "shell.execute_reply.started": "2021-09-22T21:45:05.148870Z"
    },
    "papermill": {
     "duration": 158.405538,
     "end_time": "2021-09-22T22:14:34.573084",
     "exception": false,
     "start_time": "2021-09-22T22:11:56.167546",
     "status": "completed"
    },
    "tags": []
   },
   "outputs": [
    {
     "name": "stderr",
     "output_type": "stream",
     "text": [
      "100%|██████████| 112/112 [02:36<00:00,  1.40s/it]\n"
     ]
    },
    {
     "name": "stdout",
     "output_type": "stream",
     "text": [
      "CPU times: user 1min 35s, sys: 27.9 s, total: 2min 3s\n",
      "Wall time: 2min 38s\n"
     ]
    },
    {
     "data": {
      "text/plain": [
       "(428932, 314)"
      ]
     },
     "execution_count": 8,
     "metadata": {},
     "output_type": "execute_result"
    }
   ],
   "source": [
    "%%time\n",
    "DF_TRAIN = []\n",
    "for stock_id in tqdm(train_stock_ids):\n",
    "    df_tmp = pd.merge( \n",
    "        book_preprocessor(data_dir + \"book_train.parquet/stock_id=\" + str(stock_id)),\n",
    "        trade_preprocessor(data_dir + \"trade_train.parquet/stock_id=\" + str(stock_id)),\n",
    "        on = 'row_id',\n",
    "        how = 'left'\n",
    "    )\n",
    "    df_tmp['stock_id'] = stock_id\n",
    "    df_tmp = convert_to_32bit(df_tmp) # to save memory\n",
    "    #df_tmp.to_parquet( 'train_parquet/'+str(stock_id)+'.parquet' )\n",
    "    DF_TRAIN.append(df_tmp)\n",
    "\n",
    "# Concatenate all stock_id in the same dataframe\n",
    "DF_TRAIN = pd.concat(DF_TRAIN, ignore_index=True )\n",
    "_ = gc.collect()\n",
    "\n",
    "# Flag to filter train/test rows\n",
    "DF_TRAIN['is_test'] = 0\n",
    "DF_TRAIN.shape"
   ]
  },
  {
   "cell_type": "markdown",
   "id": "bc23e48a",
   "metadata": {
    "papermill": {
     "duration": 0.056352,
     "end_time": "2021-09-22T22:14:34.686629",
     "exception": false,
     "start_time": "2021-09-22T22:14:34.630277",
     "status": "completed"
    },
    "tags": []
   },
   "source": [
    "# Process all test .parquet files. Create features using cudf (GPU)"
   ]
  },
  {
   "cell_type": "code",
   "execution_count": 9,
   "id": "32b68cff",
   "metadata": {
    "execution": {
     "iopub.execute_input": "2021-09-22T22:14:34.809838Z",
     "iopub.status.busy": "2021-09-22T22:14:34.809211Z",
     "iopub.status.idle": "2021-09-22T22:14:35.551695Z",
     "shell.execute_reply": "2021-09-22T22:14:35.551131Z",
     "shell.execute_reply.started": "2021-09-22T21:47:50.122943Z"
    },
    "papermill": {
     "duration": 0.804983,
     "end_time": "2021-09-22T22:14:35.551834",
     "exception": false,
     "start_time": "2021-09-22T22:14:34.746851",
     "status": "completed"
    },
    "tags": []
   },
   "outputs": [
    {
     "name": "stderr",
     "output_type": "stream",
     "text": [
      "100%|██████████| 1/1 [00:00<00:00,  1.82it/s]"
     ]
    },
    {
     "name": "stdout",
     "output_type": "stream",
     "text": [
      "CPU times: user 712 ms, sys: 8.18 ms, total: 720 ms\n",
      "Wall time: 734 ms\n"
     ]
    },
    {
     "name": "stderr",
     "output_type": "stream",
     "text": [
      "\n"
     ]
    },
    {
     "data": {
      "text/plain": [
       "(1, 314)"
      ]
     },
     "execution_count": 9,
     "metadata": {},
     "output_type": "execute_result"
    }
   ],
   "source": [
    "%%time\n",
    "DF_TEST = []\n",
    "for stock_id in tqdm(test_stock_ids):\n",
    "    df_tmp = pd.merge( \n",
    "        book_preprocessor(data_dir + \"book_test.parquet/stock_id=\" + str(stock_id)),\n",
    "        trade_preprocessor(data_dir + \"trade_test.parquet/stock_id=\" + str(stock_id)),\n",
    "        on = 'row_id',\n",
    "        how = 'left'\n",
    "    )\n",
    "    df_tmp['stock_id'] = stock_id\n",
    "    df_tmp = convert_to_32bit(df_tmp) # to save memory\n",
    "    #df_tmp.to_parquet( 'test_parquet/'+str(stock_id)+'.parquet' )\n",
    "    DF_TEST.append(df_tmp)\n",
    "    \n",
    "# Concatenate all stock_id in the same dataframe\n",
    "DF_TEST = pd.concat(DF_TEST, ignore_index=True )\n",
    "_ = gc.collect()\n",
    "\n",
    "# Flag to filter train/test rows\n",
    "DF_TEST['is_test'] = 1\n",
    "DF_TEST.shape"
   ]
  },
  {
   "cell_type": "code",
   "execution_count": 10,
   "id": "17323c55",
   "metadata": {
    "execution": {
     "iopub.execute_input": "2021-09-22T22:14:35.675372Z",
     "iopub.status.busy": "2021-09-22T22:14:35.674620Z",
     "iopub.status.idle": "2021-09-22T22:14:36.206211Z",
     "shell.execute_reply": "2021-09-22T22:14:36.206623Z",
     "shell.execute_reply.started": "2021-09-22T21:47:50.937664Z"
    },
    "papermill": {
     "duration": 0.595319,
     "end_time": "2021-09-22T22:14:36.206776",
     "exception": false,
     "start_time": "2021-09-22T22:14:35.611457",
     "status": "completed"
    },
    "tags": []
   },
   "outputs": [
    {
     "data": {
      "text/plain": [
       "(428933, 314)"
      ]
     },
     "execution_count": 10,
     "metadata": {},
     "output_type": "execute_result"
    }
   ],
   "source": [
    "TRAIN = pd.concat( [DF_TRAIN, DF_TEST] ).sort_values(['stock_id','time_id_']).reset_index(drop=True)\n",
    "\n",
    "del DF_TRAIN, DF_TEST\n",
    "_ = gc.collect()\n",
    "TRAIN.shape"
   ]
  },
  {
   "cell_type": "code",
   "execution_count": 11,
   "id": "932027a5",
   "metadata": {
    "execution": {
     "iopub.execute_input": "2021-09-22T22:14:36.326302Z",
     "iopub.status.busy": "2021-09-22T22:14:36.325490Z",
     "iopub.status.idle": "2021-09-22T22:14:36.952806Z",
     "shell.execute_reply": "2021-09-22T22:14:36.953268Z",
     "shell.execute_reply.started": "2021-09-22T21:47:51.484186Z"
    },
    "papermill": {
     "duration": 0.688202,
     "end_time": "2021-09-22T22:14:36.953416",
     "exception": false,
     "start_time": "2021-09-22T22:14:36.265214",
     "status": "completed"
    },
    "tags": []
   },
   "outputs": [
    {
     "name": "stdout",
     "output_type": "stream",
     "text": [
      "(428933, 368)\n",
      "     wap1_sum  wap1_std  wap1_min  wap1_max    wap2_sum  wap2_std  wap2_min  \\\n",
      "0  491.059692  0.000437  0.998868  1.000914  491.068878  0.000477  0.998870   \n",
      "1  331.272003  0.000964  0.999005  1.003642  331.323883  0.001018  0.998921   \n",
      "2  298.553101  0.000947  0.996610  1.000573  298.572296  0.001034  0.996466   \n",
      "3  582.350342  0.001520  0.993641  0.999571  582.324402  0.001549  0.993641   \n",
      "4  287.226196  0.000677  0.995888  0.999384  287.299713  0.000940  0.994704   \n",
      "\n",
      "   wap2_max    wap3_sum  wap3_std  ...  trade_log_return_sqr_sum_max_time  \\\n",
      "0  1.001132  491.081268  0.000396  ...                           0.000034   \n",
      "1  1.004022  331.344757  0.001013  ...                           0.000022   \n",
      "2  1.000570  298.502289  0.001103  ...                           0.000019   \n",
      "3  0.999786  582.388977  0.001496  ...                           0.000027   \n",
      "4  1.000074  286.961395  0.000657  ...                           0.000028   \n",
      "\n",
      "   trade_log_return_sqr_sum_min_time  trade_log_return_sqr_std_mean_time  \\\n",
      "0                       2.502476e-07                        1.569204e-07   \n",
      "1                       1.005668e-06                        1.372791e-07   \n",
      "2                       1.238838e-06                        1.449762e-07   \n",
      "3                       1.474619e-06                        1.858966e-07   \n",
      "4                       1.435434e-06                        1.988176e-07   \n",
      "\n",
      "   trade_log_return_sqr_std_std_time  trade_log_return_sqr_std_max_time  \\\n",
      "0                       1.658093e-07                       1.072921e-06   \n",
      "1                       2.169306e-07                       1.727830e-06   \n",
      "2                       1.964732e-07                       1.222987e-06   \n",
      "3                       1.575786e-07                       8.656888e-07   \n",
      "4                       2.191554e-07                       1.755585e-06   \n",
      "\n",
      "   trade_log_return_sqr_std_min_time  \\\n",
      "0                       1.146930e-09   \n",
      "1                       7.621491e-09   \n",
      "2                       7.777849e-09   \n",
      "3                       1.677815e-08   \n",
      "4                       1.507121e-08   \n",
      "\n",
      "   trade_seconds_in_bucket_nunique_mean_time  \\\n",
      "0                                  80.133929   \n",
      "1                                 101.678571   \n",
      "2                                 107.678571   \n",
      "3                                  92.571429   \n",
      "4                                  84.133929   \n",
      "\n",
      "   trade_seconds_in_bucket_nunique_std_time  \\\n",
      "0                                 68.080701   \n",
      "1                                 68.771618   \n",
      "2                                 78.659285   \n",
      "3                                 70.972487   \n",
      "4                                 64.698956   \n",
      "\n",
      "   trade_seconds_in_bucket_nunique_max_time  \\\n",
      "0                                       338   \n",
      "1                                       434   \n",
      "2                                       458   \n",
      "3                                       384   \n",
      "4                                       440   \n",
      "\n",
      "   trade_seconds_in_bucket_nunique_min_time  \n",
      "0                                        11  \n",
      "1                                         9  \n",
      "2                                         8  \n",
      "3                                         7  \n",
      "4                                        15  \n",
      "\n",
      "[5 rows x 368 columns]\n",
      "CPU times: user 424 ms, sys: 193 ms, total: 617 ms\n",
      "Wall time: 618 ms\n"
     ]
    }
   ],
   "source": [
    "%%time\n",
    "\n",
    "def get_time_stock(df_):\n",
    "    vol_cols = ['log_return1_sqr_sum_500', 'log_return2_sqr_sum_500', 'log_return3_sqr_sum_500', 'log_return4_sqr_sum_500', 'trade_log_return_sqr_sum', 'trade_log_return_sqr_std', 'trade_seconds_in_bucket_nunique' ]\n",
    "\n",
    "    df = df_.copy()\n",
    "    df_stock_id = df.groupby(['stock_id'])[vol_cols].agg(['mean', 'std', 'max', 'min', ]).reset_index()\n",
    "    df_stock_id.columns = ['_'.join(col) + '_stock' for col in df_stock_id.columns]\n",
    "\n",
    "    df_time_id = df.groupby(['time_id_'])[vol_cols].agg(['mean', 'std', 'max', 'min', ]).reset_index()\n",
    "    df_time_id.columns = ['_'.join(col)+ '_time' for col in df_time_id.columns]\n",
    "    \n",
    "    df = df.merge(df_stock_id, how = 'left', left_on = ['stock_id'], right_on = ['stock_id__stock'])\n",
    "    df = df.merge(df_time_id, how = 'left', left_on = ['time_id_'], right_on = ['time_id___time'])\n",
    "    df.drop(['stock_id__stock', 'time_id___time'], axis = 1, inplace = True)\n",
    "    return df\n",
    "\n",
    "TRAIN_ = get_time_stock(TRAIN)\n",
    "TRAIN_.drop(['stock_id','time_id_'], axis = 1, inplace = True)\n",
    "print(TRAIN_.shape)\n",
    "print(TRAIN_.head())"
   ]
  },
  {
   "cell_type": "code",
   "execution_count": 12,
   "id": "68e4218f",
   "metadata": {
    "execution": {
     "iopub.execute_input": "2021-09-22T22:14:37.111999Z",
     "iopub.status.busy": "2021-09-22T22:14:37.107426Z",
     "iopub.status.idle": "2021-09-22T22:14:37.442519Z",
     "shell.execute_reply": "2021-09-22T22:14:37.442975Z",
     "shell.execute_reply.started": "2021-09-22T21:47:52.141396Z"
    },
    "papermill": {
     "duration": 0.398283,
     "end_time": "2021-09-22T22:14:37.443123",
     "exception": false,
     "start_time": "2021-09-22T22:14:37.044840",
     "status": "completed"
    },
    "tags": []
   },
   "outputs": [
    {
     "data": {
      "text/plain": [
       "((428932, 372), (3, 371))"
      ]
     },
     "execution_count": 12,
     "metadata": {},
     "output_type": "execute_result"
    }
   ],
   "source": [
    "train = train.merge(TRAIN_, on='row_id', how='left' )\n",
    "test  = test.merge(TRAIN_, on='row_id', how='left' )\n",
    "\n",
    "del TRAIN_, TRAIN\n",
    "_ = gc.collect()\n",
    "\n",
    "train.shape, test.shape"
   ]
  },
  {
   "cell_type": "code",
   "execution_count": 13,
   "id": "2e01e3e2",
   "metadata": {
    "execution": {
     "iopub.execute_input": "2021-09-22T22:14:37.585951Z",
     "iopub.status.busy": "2021-09-22T22:14:37.577445Z",
     "iopub.status.idle": "2021-09-22T22:14:38.062888Z",
     "shell.execute_reply": "2021-09-22T22:14:38.062296Z",
     "shell.execute_reply.started": "2021-09-22T21:47:52.502228Z"
    },
    "papermill": {
     "duration": 0.560873,
     "end_time": "2021-09-22T22:14:38.063050",
     "exception": false,
     "start_time": "2021-09-22T22:14:37.502177",
     "status": "completed"
    },
    "tags": []
   },
   "outputs": [
    {
     "data": {
      "text/html": [
       "<div>\n",
       "<style scoped>\n",
       "    .dataframe tbody tr th:only-of-type {\n",
       "        vertical-align: middle;\n",
       "    }\n",
       "\n",
       "    .dataframe tbody tr th {\n",
       "        vertical-align: top;\n",
       "    }\n",
       "\n",
       "    .dataframe thead th {\n",
       "        text-align: right;\n",
       "    }\n",
       "</style>\n",
       "<table border=\"1\" class=\"dataframe\">\n",
       "  <thead>\n",
       "    <tr style=\"text-align: right;\">\n",
       "      <th></th>\n",
       "      <th>stock_id</th>\n",
       "      <th>time_id</th>\n",
       "      <th>target</th>\n",
       "      <th>row_id</th>\n",
       "      <th>is_train</th>\n",
       "      <th>wap1_sum</th>\n",
       "      <th>wap1_std</th>\n",
       "      <th>wap1_min</th>\n",
       "      <th>wap1_max</th>\n",
       "      <th>wap2_sum</th>\n",
       "      <th>...</th>\n",
       "      <th>trade_log_return_sqr_sum_max_time</th>\n",
       "      <th>trade_log_return_sqr_sum_min_time</th>\n",
       "      <th>trade_log_return_sqr_std_mean_time</th>\n",
       "      <th>trade_log_return_sqr_std_std_time</th>\n",
       "      <th>trade_log_return_sqr_std_max_time</th>\n",
       "      <th>trade_log_return_sqr_std_min_time</th>\n",
       "      <th>trade_seconds_in_bucket_nunique_mean_time</th>\n",
       "      <th>trade_seconds_in_bucket_nunique_std_time</th>\n",
       "      <th>trade_seconds_in_bucket_nunique_max_time</th>\n",
       "      <th>trade_seconds_in_bucket_nunique_min_time</th>\n",
       "    </tr>\n",
       "  </thead>\n",
       "  <tbody>\n",
       "    <tr>\n",
       "      <th>0</th>\n",
       "      <td>0</td>\n",
       "      <td>10604</td>\n",
       "      <td>0.003078</td>\n",
       "      <td>0-10604</td>\n",
       "      <td>1</td>\n",
       "      <td>240.041046</td>\n",
       "      <td>0.000823</td>\n",
       "      <td>0.998679</td>\n",
       "      <td>1.001850</td>\n",
       "      <td>240.017700</td>\n",
       "      <td>...</td>\n",
       "      <td>0.000077</td>\n",
       "      <td>7.867974e-07</td>\n",
       "      <td>1.652909e-07</td>\n",
       "      <td>1.958228e-07</td>\n",
       "      <td>0.000001</td>\n",
       "      <td>3.408399e-09</td>\n",
       "      <td>90.589286</td>\n",
       "      <td>79.341269</td>\n",
       "      <td>439</td>\n",
       "      <td>11</td>\n",
       "    </tr>\n",
       "    <tr>\n",
       "      <th>1</th>\n",
       "      <td>0</td>\n",
       "      <td>10703</td>\n",
       "      <td>0.004344</td>\n",
       "      <td>0-10703</td>\n",
       "      <td>1</td>\n",
       "      <td>259.323792</td>\n",
       "      <td>0.001001</td>\n",
       "      <td>0.995239</td>\n",
       "      <td>0.999452</td>\n",
       "      <td>259.297424</td>\n",
       "      <td>...</td>\n",
       "      <td>0.000029</td>\n",
       "      <td>9.603019e-07</td>\n",
       "      <td>1.824191e-07</td>\n",
       "      <td>3.604568e-07</td>\n",
       "      <td>0.000004</td>\n",
       "      <td>6.608633e-09</td>\n",
       "      <td>71.312500</td>\n",
       "      <td>58.376385</td>\n",
       "      <td>325</td>\n",
       "      <td>4</td>\n",
       "    </tr>\n",
       "    <tr>\n",
       "      <th>2</th>\n",
       "      <td>0</td>\n",
       "      <td>10661</td>\n",
       "      <td>0.002892</td>\n",
       "      <td>0-10661</td>\n",
       "      <td>1</td>\n",
       "      <td>146.198929</td>\n",
       "      <td>0.000417</td>\n",
       "      <td>1.000542</td>\n",
       "      <td>1.002288</td>\n",
       "      <td>146.166885</td>\n",
       "      <td>...</td>\n",
       "      <td>0.000147</td>\n",
       "      <td>4.017960e-07</td>\n",
       "      <td>1.537688e-07</td>\n",
       "      <td>6.347032e-07</td>\n",
       "      <td>0.000007</td>\n",
       "      <td>4.833834e-09</td>\n",
       "      <td>60.250000</td>\n",
       "      <td>46.428381</td>\n",
       "      <td>293</td>\n",
       "      <td>7</td>\n",
       "    </tr>\n",
       "    <tr>\n",
       "      <th>3</th>\n",
       "      <td>0</td>\n",
       "      <td>10765</td>\n",
       "      <td>0.006553</td>\n",
       "      <td>0-10765</td>\n",
       "      <td>1</td>\n",
       "      <td>195.584579</td>\n",
       "      <td>0.002373</td>\n",
       "      <td>1.009551</td>\n",
       "      <td>1.020173</td>\n",
       "      <td>195.636261</td>\n",
       "      <td>...</td>\n",
       "      <td>0.000111</td>\n",
       "      <td>5.171611e-06</td>\n",
       "      <td>7.098751e-07</td>\n",
       "      <td>6.771278e-07</td>\n",
       "      <td>0.000003</td>\n",
       "      <td>1.434562e-08</td>\n",
       "      <td>139.747748</td>\n",
       "      <td>123.167843</td>\n",
       "      <td>576</td>\n",
       "      <td>9</td>\n",
       "    </tr>\n",
       "    <tr>\n",
       "      <th>4</th>\n",
       "      <td>0</td>\n",
       "      <td>10608</td>\n",
       "      <td>0.003279</td>\n",
       "      <td>0-10608</td>\n",
       "      <td>1</td>\n",
       "      <td>284.762238</td>\n",
       "      <td>0.002616</td>\n",
       "      <td>0.991918</td>\n",
       "      <td>1.000521</td>\n",
       "      <td>284.686005</td>\n",
       "      <td>...</td>\n",
       "      <td>0.000030</td>\n",
       "      <td>1.328192e-06</td>\n",
       "      <td>2.206635e-07</td>\n",
       "      <td>2.365471e-07</td>\n",
       "      <td>0.000001</td>\n",
       "      <td>1.457424e-08</td>\n",
       "      <td>98.428571</td>\n",
       "      <td>74.786870</td>\n",
       "      <td>435</td>\n",
       "      <td>14</td>\n",
       "    </tr>\n",
       "  </tbody>\n",
       "</table>\n",
       "<p>5 rows × 372 columns</p>\n",
       "</div>"
      ],
      "text/plain": [
       "   stock_id  time_id    target   row_id  is_train    wap1_sum  wap1_std  \\\n",
       "0         0    10604  0.003078  0-10604         1  240.041046  0.000823   \n",
       "1         0    10703  0.004344  0-10703         1  259.323792  0.001001   \n",
       "2         0    10661  0.002892  0-10661         1  146.198929  0.000417   \n",
       "3         0    10765  0.006553  0-10765         1  195.584579  0.002373   \n",
       "4         0    10608  0.003279  0-10608         1  284.762238  0.002616   \n",
       "\n",
       "   wap1_min  wap1_max    wap2_sum  ...  trade_log_return_sqr_sum_max_time  \\\n",
       "0  0.998679  1.001850  240.017700  ...                           0.000077   \n",
       "1  0.995239  0.999452  259.297424  ...                           0.000029   \n",
       "2  1.000542  1.002288  146.166885  ...                           0.000147   \n",
       "3  1.009551  1.020173  195.636261  ...                           0.000111   \n",
       "4  0.991918  1.000521  284.686005  ...                           0.000030   \n",
       "\n",
       "   trade_log_return_sqr_sum_min_time  trade_log_return_sqr_std_mean_time  \\\n",
       "0                       7.867974e-07                        1.652909e-07   \n",
       "1                       9.603019e-07                        1.824191e-07   \n",
       "2                       4.017960e-07                        1.537688e-07   \n",
       "3                       5.171611e-06                        7.098751e-07   \n",
       "4                       1.328192e-06                        2.206635e-07   \n",
       "\n",
       "   trade_log_return_sqr_std_std_time  trade_log_return_sqr_std_max_time  \\\n",
       "0                       1.958228e-07                           0.000001   \n",
       "1                       3.604568e-07                           0.000004   \n",
       "2                       6.347032e-07                           0.000007   \n",
       "3                       6.771278e-07                           0.000003   \n",
       "4                       2.365471e-07                           0.000001   \n",
       "\n",
       "   trade_log_return_sqr_std_min_time  \\\n",
       "0                       3.408399e-09   \n",
       "1                       6.608633e-09   \n",
       "2                       4.833834e-09   \n",
       "3                       1.434562e-08   \n",
       "4                       1.457424e-08   \n",
       "\n",
       "   trade_seconds_in_bucket_nunique_mean_time  \\\n",
       "0                                  90.589286   \n",
       "1                                  71.312500   \n",
       "2                                  60.250000   \n",
       "3                                 139.747748   \n",
       "4                                  98.428571   \n",
       "\n",
       "   trade_seconds_in_bucket_nunique_std_time  \\\n",
       "0                                 79.341269   \n",
       "1                                 58.376385   \n",
       "2                                 46.428381   \n",
       "3                                123.167843   \n",
       "4                                 74.786870   \n",
       "\n",
       "   trade_seconds_in_bucket_nunique_max_time  \\\n",
       "0                                       439   \n",
       "1                                       325   \n",
       "2                                       293   \n",
       "3                                       576   \n",
       "4                                       435   \n",
       "\n",
       "   trade_seconds_in_bucket_nunique_min_time  \n",
       "0                                        11  \n",
       "1                                         4  \n",
       "2                                         7  \n",
       "3                                         9  \n",
       "4                                        14  \n",
       "\n",
       "[5 rows x 372 columns]"
      ]
     },
     "execution_count": 13,
     "metadata": {},
     "output_type": "execute_result"
    }
   ],
   "source": [
    "train.head()"
   ]
  },
  {
   "cell_type": "markdown",
   "id": "0d047c14",
   "metadata": {
    "papermill": {
     "duration": 0.060075,
     "end_time": "2021-09-22T22:14:38.182949",
     "exception": false,
     "start_time": "2021-09-22T22:14:38.122874",
     "status": "completed"
    },
    "tags": []
   },
   "source": [
    "# Now time to calculate correlation between all stock. The best way is using a correlation matrix, so first pivot all target variables by stock_id, then just calculate the correlation matrix.\n",
    "# To Find correlated stocks use Kmeans algorithm on the correlation matrix. This procedure is a bit leak because it not being processed using crossvalidation, but it won't leak much since only 6 clusters are being calculated."
   ]
  },
  {
   "cell_type": "code",
   "execution_count": 14,
   "id": "7c479981",
   "metadata": {
    "execution": {
     "iopub.execute_input": "2021-09-22T22:14:38.308342Z",
     "iopub.status.busy": "2021-09-22T22:14:38.307751Z",
     "iopub.status.idle": "2021-09-22T22:14:42.485409Z",
     "shell.execute_reply": "2021-09-22T22:14:42.486310Z",
     "shell.execute_reply.started": "2021-09-22T21:47:53.053708Z"
    },
    "papermill": {
     "duration": 4.24423,
     "end_time": "2021-09-22T22:14:42.486520",
     "exception": false,
     "start_time": "2021-09-22T22:14:38.242290",
     "status": "completed"
    },
    "tags": []
   },
   "outputs": [
    {
     "name": "stdout",
     "output_type": "stream",
     "text": [
      "CPU times: user 3.46 s, sys: 160 ms, total: 3.62 s\n",
      "Wall time: 4.17 s\n"
     ]
    },
    {
     "data": {
      "text/plain": [
       "cluster\n",
       "5     34455\n",
       "3    126389\n",
       "0    122559\n",
       "2     99580\n",
       "4     34469\n",
       "1     11480\n",
       "Name: time_id, dtype: int32"
      ]
     },
     "execution_count": 14,
     "metadata": {},
     "output_type": "execute_result"
    }
   ],
   "source": [
    "%%time\n",
    "train_p = pd.read_csv('../input/optiver-realized-volatility-prediction/train.csv')\n",
    "train_p = train_p.pivot(index='time_id', columns=['stock_id'], values=['target']).fillna(0.)\n",
    "corr = train_p.corr()\n",
    "\n",
    "km = cuml.KMeans(n_clusters=6, max_iter=2000, n_init=5).fit(corr)\n",
    "df = pd.DataFrame( {'stock_id': [ f[1] for f in corr.columns ], 'cluster': km.labels_} )\n",
    "df = convert_to_32bit(df)\n",
    "\n",
    "train = train.merge(df, on='stock_id', how='left')\n",
    "test = test.merge(df, on='stock_id', how='left')\n",
    "\n",
    "\n",
    "del train_p, df, corr, km\n",
    "_ = gc.collect()\n",
    "\n",
    "# Clusters found\n",
    "train.groupby('cluster')['time_id'].agg('count')"
   ]
  },
  {
   "cell_type": "code",
   "execution_count": 15,
   "id": "845202a0",
   "metadata": {
    "execution": {
     "iopub.execute_input": "2021-09-22T22:14:42.695498Z",
     "iopub.status.busy": "2021-09-22T22:14:42.694682Z",
     "iopub.status.idle": "2021-09-22T22:14:45.783961Z",
     "shell.execute_reply": "2021-09-22T22:14:45.783216Z",
     "shell.execute_reply.started": "2021-09-22T21:47:57.479872Z"
    },
    "papermill": {
     "duration": 3.196808,
     "end_time": "2021-09-22T22:14:45.784087",
     "exception": false,
     "start_time": "2021-09-22T22:14:42.587279",
     "status": "completed"
    },
    "tags": []
   },
   "outputs": [
    {
     "name": "stdout",
     "output_type": "stream",
     "text": [
      "0\n",
      "1\n",
      "2\n",
      "3\n",
      "4\n",
      "5\n"
     ]
    },
    {
     "data": {
      "text/plain": [
       "((22980, 371), (3, 371))"
      ]
     },
     "execution_count": 15,
     "metadata": {},
     "output_type": "execute_result"
    }
   ],
   "source": [
    "matTrain = []\n",
    "matTest = []\n",
    "\n",
    "# 6 clusters\n",
    "for ind in range(train.cluster.max()+1):\n",
    "    print(ind)\n",
    "    newDf = train.loc[train['cluster']==ind].copy()\n",
    "    newDf = newDf.groupby(['time_id']).agg('mean')\n",
    "    newDf.loc[:,'stock_id'] = 127+ind\n",
    "    matTrain.append ( newDf )\n",
    "    \n",
    "    newDf = test.loc[test['cluster']==ind].copy()\n",
    "    newDf = newDf.groupby(['time_id']).agg('mean')\n",
    "    newDf.loc[:,'stock_id'] = 127+ind\n",
    "    matTest.append ( newDf )\n",
    "    \n",
    "matTrain = pd.concat(matTrain).reset_index()\n",
    "matTrain.drop(columns=['target'],inplace=True)\n",
    "\n",
    "matTest = pd.concat(matTest).reset_index()\n",
    "\n",
    "matTrain.shape, matTest.shape"
   ]
  },
  {
   "cell_type": "code",
   "execution_count": 16,
   "id": "7b732013",
   "metadata": {
    "execution": {
     "iopub.execute_input": "2021-09-22T22:14:45.920756Z",
     "iopub.status.busy": "2021-09-22T22:14:45.919963Z",
     "iopub.status.idle": "2021-09-22T22:14:47.331860Z",
     "shell.execute_reply": "2021-09-22T22:14:47.332309Z",
     "shell.execute_reply.started": "2021-09-22T21:48:00.188241Z"
    },
    "papermill": {
     "duration": 1.48336,
     "end_time": "2021-09-22T22:14:47.332581",
     "exception": false,
     "start_time": "2021-09-22T22:14:45.849221",
     "status": "completed"
    },
    "tags": []
   },
   "outputs": [
    {
     "data": {
      "text/plain": [
       "((3830, 2215), (4, 2215))"
      ]
     },
     "execution_count": 16,
     "metadata": {},
     "output_type": "execute_result"
    }
   ],
   "source": [
    "matTest = pd.concat([matTest , matTrain.loc[matTrain.time_id==5]])\n",
    "matTrain = matTrain.pivot(index='time_id', columns='stock_id')\n",
    "matTrain.columns = [x[0]+'_stock'+str(int(x[1])) for x in matTrain.columns]\n",
    "matTrain.reset_index(inplace=True)\n",
    "\n",
    "matTest = matTest.pivot(index='time_id', columns='stock_id')\n",
    "matTest.columns = [x[0]+'_stock'+str(int(x[1])) for x in matTest.columns]\n",
    "matTest.reset_index(inplace=True)\n",
    "\n",
    "matTrain.shape, matTest.shape"
   ]
  },
  {
   "cell_type": "code",
   "execution_count": 17,
   "id": "cde1bd65",
   "metadata": {
    "execution": {
     "iopub.execute_input": "2021-09-22T22:14:47.479280Z",
     "iopub.status.busy": "2021-09-22T22:14:47.467486Z",
     "iopub.status.idle": "2021-09-22T22:14:49.521828Z",
     "shell.execute_reply": "2021-09-22T22:14:49.522408Z",
     "shell.execute_reply.started": "2021-09-22T21:48:01.616370Z"
    },
    "papermill": {
     "duration": 2.122961,
     "end_time": "2021-09-22T22:14:49.522622",
     "exception": false,
     "start_time": "2021-09-22T22:14:47.399661",
     "status": "completed"
    },
    "tags": []
   },
   "outputs": [
    {
     "name": "stdout",
     "output_type": "stream",
     "text": [
      "(428932, 493) (3, 492)\n"
     ]
    }
   ],
   "source": [
    "kfeatures = [\n",
    "    'time_id',\n",
    "        \n",
    "    'wap1_sum_stock127',\n",
    "    'wap1_sum_stock128',     \n",
    "    'wap1_sum_stock129',\n",
    "    'wap1_sum_stock130',     \n",
    "    'wap1_sum_stock131',\n",
    "    'wap1_sum_stock132',\n",
    "        \n",
    "    'wap2_sum_stock127',\n",
    "    'wap2_sum_stock128',     \n",
    "    'wap2_sum_stock129',\n",
    "    'wap2_sum_stock130',     \n",
    "    'wap2_sum_stock131',\n",
    "    'wap2_sum_stock132',\n",
    "        \n",
    "    'wap3_sum_stock127',\n",
    "    'wap3_sum_stock128',     \n",
    "    'wap3_sum_stock129',\n",
    "    'wap3_sum_stock130',     \n",
    "    'wap3_sum_stock131',\n",
    "    'wap3_sum_stock132',\n",
    "        \n",
    "    'wap4_sum_stock127',\n",
    "    'wap4_sum_stock128',     \n",
    "    'wap4_sum_stock129',\n",
    "    'wap4_sum_stock130',     \n",
    "    'wap4_sum_stock131',\n",
    "    'wap4_sum_stock132',\n",
    "    \n",
    "    'log_return1_sqr_sum_stock127',\n",
    "    'log_return1_sqr_sum_stock128',     \n",
    "    'log_return1_sqr_sum_stock129',\n",
    "    'log_return1_sqr_sum_stock130',     \n",
    "    'log_return1_sqr_sum_stock131',\n",
    "    'log_return1_sqr_sum_stock132',\n",
    "\n",
    "    'log_return2_sqr_sum_stock127',\n",
    "    'log_return2_sqr_sum_stock128',     \n",
    "    'log_return2_sqr_sum_stock129',\n",
    "    'log_return2_sqr_sum_stock130',     \n",
    "    'log_return2_sqr_sum_stock131',\n",
    "    'log_return2_sqr_sum_stock132',\n",
    "\n",
    "    'log_return3_sqr_sum_stock127',\n",
    "    'log_return3_sqr_sum_stock128',     \n",
    "    'log_return3_sqr_sum_stock129',\n",
    "    'log_return3_sqr_sum_stock130',     \n",
    "    'log_return3_sqr_sum_stock131',\n",
    "    'log_return3_sqr_sum_stock132',\n",
    "\n",
    "    'log_return4_sqr_sum_stock127',\n",
    "    'log_return4_sqr_sum_stock128',     \n",
    "    'log_return4_sqr_sum_stock129',\n",
    "    'log_return4_sqr_sum_stock130',     \n",
    "    'log_return4_sqr_sum_stock131',\n",
    "    'log_return4_sqr_sum_stock132',\n",
    "    \n",
    "    'total_volume_sum_stock127',\n",
    "    'total_volume_sum_stock128', \n",
    "    'total_volume_sum_stock129',\n",
    "    'total_volume_sum_stock130', \n",
    "    'total_volume_sum_stock131',\n",
    "    'total_volume_sum_stock132',\n",
    "    \n",
    "    'trade_size_sum_stock127',\n",
    "    'trade_size_sum_stock128', \n",
    "    'trade_size_sum_stock129',\n",
    "    'trade_size_sum_stock130', \n",
    "    'trade_size_sum_stock131',\n",
    "    'trade_size_sum_stock132',\n",
    "    \n",
    "    'trade_order_count_sum_stock127',\n",
    "    'trade_order_count_sum_stock128',\n",
    "    'trade_order_count_sum_stock129',\n",
    "    'trade_order_count_sum_stock130',\n",
    "    'trade_order_count_sum_stock131',      \n",
    "    'trade_order_count_sum_stock132',\n",
    "    \n",
    "    'price_spread_sum_stock127',\n",
    "    'price_spread_sum_stock128',\n",
    "    'price_spread_sum_stock129',\n",
    "    'price_spread_sum_stock130',\n",
    "    'price_spread_sum_stock131',   \n",
    "    'price_spread_sum_stock132',\n",
    "    \n",
    "    'bid_spread_sum_stock127',\n",
    "    'bid_spread_sum_stock128',\n",
    "    'bid_spread_sum_stock129',\n",
    "    'bid_spread_sum_stock130',\n",
    "    'bid_spread_sum_stock131',\n",
    "    'bid_spread_sum_stock132',\n",
    "    \n",
    "    'ask_spread_sum_stock127',\n",
    "    'ask_spread_sum_stock128',\n",
    "    'ask_spread_sum_stock129',\n",
    "    'ask_spread_sum_stock130',\n",
    "    'ask_spread_sum_stock131',   \n",
    "    'ask_spread_sum_stock132',\n",
    "    \n",
    "    'volume_imbalance_sum_stock127',\n",
    "    'volume_imbalance_sum_stock128',\n",
    "    'volume_imbalance_sum_stock129',\n",
    "    'volume_imbalance_sum_stock130',\n",
    "    'volume_imbalance_sum_stock131',       \n",
    "    'volume_imbalance_sum_stock132',\n",
    "    \n",
    "    'bid_ask_spread_sum_stock127',\n",
    "    'bid_ask_spread_sum_stock128',\n",
    "    'bid_ask_spread_sum_stock129',\n",
    "    'bid_ask_spread_sum_stock130',\n",
    "    'bid_ask_spread_sum_stock131',\n",
    "    'bid_ask_spread_sum_stock132',\n",
    "    \n",
    "    'momentum_sum_stock127',\n",
    "    'momentum_sum_stock128',\n",
    "    'momentum_sum_stock129',\n",
    "    'momentum_sum_stock130',\n",
    "    'momentum_sum_stock131',\n",
    "    'momentum_sum_stock132',\n",
    "    \n",
    "    'momentum_unsigned_sum_stock127',\n",
    "    'momentum_unsigned_sum_stock128',\n",
    "    'momentum_unsigned_sum_stock129',\n",
    "    'momentum_unsigned_sum_stock130',\n",
    "    'momentum_unsigned_sum_stock131',\n",
    "    'momentum_unsigned_sum_stock132',\n",
    "    \n",
    "    'volume_momentum_sum_stock127',\n",
    "    'volume_momentum_sum_stock128',\n",
    "    'volume_momentum_sum_stock129',\n",
    "    'volume_momentum_sum_stock130',\n",
    "    'volume_momentum_sum_stock131',\n",
    "    'volume_momentum_sum_stock132',\n",
    "    \n",
    "    \n",
    "    'volume_momentum_unsigned_sum_stock127',\n",
    "    'volume_momentum_unsigned_sum_stock128',\n",
    "    'volume_momentum_unsigned_sum_stock129',\n",
    "    'volume_momentum_unsigned_sum_stock130',\n",
    "    'volume_momentum_unsigned_sum_stock131',\n",
    "    'volume_momentum_unsigned_sum_stock132',\n",
    "    \n",
    "    \n",
    "]\n",
    "matTrain = convert_to_32bit(matTrain)\n",
    "matTest = convert_to_32bit(matTest)\n",
    "\n",
    "train = pd.merge(train,matTrain[kfeatures],how='left',on='time_id')\n",
    "test = pd.merge(test,matTest[kfeatures],how='left',on='time_id')\n",
    "_ = gc.collect()\n",
    "\n",
    "print( train.shape, test.shape )"
   ]
  },
  {
   "cell_type": "code",
   "execution_count": 18,
   "id": "ae2ae315",
   "metadata": {
    "execution": {
     "iopub.execute_input": "2021-09-22T22:14:49.671165Z",
     "iopub.status.busy": "2021-09-22T22:14:49.666218Z",
     "iopub.status.idle": "2021-09-22T22:14:49.904986Z",
     "shell.execute_reply": "2021-09-22T22:14:49.904209Z",
     "shell.execute_reply.started": "2021-09-22T21:48:03.668229Z"
    },
    "papermill": {
     "duration": 0.316602,
     "end_time": "2021-09-22T22:14:49.905112",
     "exception": false,
     "start_time": "2021-09-22T22:14:49.588510",
     "status": "completed"
    },
    "tags": []
   },
   "outputs": [
    {
     "data": {
      "text/plain": [
       "((428932, 493), (3, 492))"
      ]
     },
     "execution_count": 18,
     "metadata": {},
     "output_type": "execute_result"
    }
   ],
   "source": [
    "# train=train[~(train[\"stock_id\"]==31)].reset_index(drop=True)\n",
    "# _= gc.collect()\n",
    "\n",
    "train = convert_to_32bit(train)\n",
    "test  = convert_to_32bit(test)\n",
    "_= gc.collect()\n",
    "\n",
    "train.shape, test.shape"
   ]
  },
  {
   "cell_type": "code",
   "execution_count": 19,
   "id": "51f3c9fa",
   "metadata": {
    "execution": {
     "iopub.execute_input": "2021-09-22T22:14:50.044625Z",
     "iopub.status.busy": "2021-09-22T22:14:50.043769Z",
     "iopub.status.idle": "2021-09-22T22:14:50.051180Z",
     "shell.execute_reply": "2021-09-22T22:14:50.050762Z",
     "shell.execute_reply.started": "2021-09-22T21:48:03.942884Z"
    },
    "papermill": {
     "duration": 0.078764,
     "end_time": "2021-09-22T22:14:50.051285",
     "exception": false,
     "start_time": "2021-09-22T22:14:49.972521",
     "status": "completed"
    },
    "tags": []
   },
   "outputs": [
    {
     "data": {
      "text/plain": [
       "(0.00010526300320634618, 0.07032062113285065)"
      ]
     },
     "execution_count": 19,
     "metadata": {},
     "output_type": "execute_result"
    }
   ],
   "source": [
    "y_target = train.target.to_pandas() #need to be numpy or pandas for sklearn \n",
    "time_id = train.time_id.to_pandas()\n",
    "NFOLD = 5\n",
    "\n",
    "def rmspe(y_true, y_pred):\n",
    "    return np.sqrt(np.mean(np.square((y_true - y_pred) / y_true)))\n",
    "\n",
    "# Target min and max values\n",
    "np.min(y_target), np.max(y_target)"
   ]
  },
  {
   "cell_type": "markdown",
   "id": "f361a8c3",
   "metadata": {
    "papermill": {
     "duration": 0.065232,
     "end_time": "2021-09-22T22:14:50.182473",
     "exception": false,
     "start_time": "2021-09-22T22:14:50.117241",
     "status": "completed"
    },
    "tags": []
   },
   "source": [
    "# XGBoost GPU"
   ]
  },
  {
   "cell_type": "code",
   "execution_count": 20,
   "id": "965d6a17",
   "metadata": {
    "execution": {
     "iopub.execute_input": "2021-09-22T22:14:50.333313Z",
     "iopub.status.busy": "2021-09-22T22:14:50.332353Z",
     "iopub.status.idle": "2021-09-22T22:19:42.960021Z",
     "shell.execute_reply": "2021-09-22T22:19:42.959248Z",
     "shell.execute_reply.started": "2021-09-22T21:48:03.958796Z"
    },
    "papermill": {
     "duration": 292.712534,
     "end_time": "2021-09-22T22:19:42.960163",
     "exception": false,
     "start_time": "2021-09-22T22:14:50.247629",
     "status": "completed"
    },
    "tags": []
   },
   "outputs": [
    {
     "name": "stdout",
     "output_type": "stream",
     "text": [
      "Fold: 0\n",
      "[0]\tvalid-rmspe:225.17076\n",
      "[250]\tvalid-rmspe:1.47747\n",
      "[500]\tvalid-rmspe:0.22113\n",
      "[666]\tvalid-rmspe:0.21999\n",
      "Rmspe Fold: 0.21999807073727753\n",
      "Fold: 1\n",
      "[0]\tvalid-rmspe:227.78713\n",
      "[250]\tvalid-rmspe:1.50744\n",
      "[500]\tvalid-rmspe:0.23672\n",
      "[706]\tvalid-rmspe:0.23444\n",
      "Rmspe Fold: 0.23441972697732233\n",
      "Fold: 2\n",
      "[0]\tvalid-rmspe:227.22092\n",
      "[250]\tvalid-rmspe:1.50238\n",
      "[500]\tvalid-rmspe:0.22338\n",
      "[616]\tvalid-rmspe:0.22265\n",
      "Rmspe Fold: 0.22265437605879165\n",
      "Fold: 3\n",
      "[0]\tvalid-rmspe:226.14059\n",
      "[250]\tvalid-rmspe:1.49489\n",
      "[500]\tvalid-rmspe:0.22079\n",
      "[674]\tvalid-rmspe:0.21989\n",
      "Rmspe Fold: 0.21989302031611016\n",
      "Fold: 4\n",
      "[0]\tvalid-rmspe:223.47002\n",
      "[250]\tvalid-rmspe:1.47630\n",
      "[500]\tvalid-rmspe:0.21900\n",
      "[656]\tvalid-rmspe:0.21861\n",
      "Rmspe Fold: 0.21860939317050576\n",
      "XGBoost Rmspe CV: 0.2231904035916705\n",
      "                                         0\n",
      "log_return1_sqr_sum_500_mean_stock     558\n",
      "trade_log_return_sqr_sum_mean_stock    545\n",
      "stock_id                               536\n",
      "log_return1_sqr_sum                    528\n",
      "wap1_sum                               452\n",
      "wap1_sum_stock127                      427\n",
      "ask_spread_max                         395\n",
      "volume_momentum_unsigned_sum_stock127  361\n",
      "total_volume_sum_stock129              343\n",
      "total_volume_sum_stock131              327\n",
      "log_return1_sqr_max                    300\n",
      "log_return3_sqr_sum_500_mean_stock     290\n",
      "log_return1_sqr_sum_200                287\n",
      "trade_log_return_sqr_std_mean_time     279\n",
      "momentum_unsigned_sum_stock131         276\n",
      "wap1_sum_stock130                      272\n",
      "bid_spread_sum_stock127                265\n",
      "wap1_std                               257\n",
      "trade_order_count_sum_stock127         256\n",
      "trade_order_count_sum_stock128         251\n",
      "\n",
      "Fold: 0\n",
      "[0]\tvalid-rmspe:225.17072\n",
      "[250]\tvalid-rmspe:1.47885\n",
      "[500]\tvalid-rmspe:0.22094\n",
      "[685]\tvalid-rmspe:0.21991\n",
      "Rmspe Fold: 0.21990844186107195\n",
      "Fold: 1\n",
      "[0]\tvalid-rmspe:227.78705\n",
      "[250]\tvalid-rmspe:1.50934\n",
      "[500]\tvalid-rmspe:0.23903\n",
      "[664]\tvalid-rmspe:0.23767\n",
      "Rmspe Fold: 0.23766500490260709\n",
      "Fold: 2\n",
      "[0]\tvalid-rmspe:227.22092\n",
      "[250]\tvalid-rmspe:1.50381\n",
      "[500]\tvalid-rmspe:0.22354\n",
      "[640]\tvalid-rmspe:0.22286\n",
      "Rmspe Fold: 0.22286142650668156\n",
      "Fold: 3\n",
      "[0]\tvalid-rmspe:226.14055\n",
      "[250]\tvalid-rmspe:1.49671\n",
      "[500]\tvalid-rmspe:0.22278\n",
      "[681]\tvalid-rmspe:0.22179\n",
      "Rmspe Fold: 0.22157632945800768\n",
      "Fold: 4\n",
      "[0]\tvalid-rmspe:223.47006\n",
      "[250]\tvalid-rmspe:1.47741\n",
      "[500]\tvalid-rmspe:0.21869\n",
      "[623]\tvalid-rmspe:0.21781\n",
      "Rmspe Fold: 0.2177705536158233\n",
      "XGBoost Rmspe CV: 0.2240677255830132\n",
      "                                            0\n",
      "stock_id                                  884\n",
      "wap1_sum                                  876\n",
      "log_return1_sqr_sum_500_mean_stock        690\n",
      "trade_log_return_sqr_sum_mean_stock       654\n",
      "total_volume_sum_stock131                 575\n",
      "wap2_sum                                  563\n",
      "wap1_sum_stock127                         562\n",
      "log_return1_sqr_sum                       555\n",
      "log_return3_sqr_sum_500_mean_stock        526\n",
      "total_volume_sum_stock129                 524\n",
      "wap1_std                                  496\n",
      "trade_log_return_sqr_std_min_time         496\n",
      "wap1_min                                  492\n",
      "bid_spread_min                            483\n",
      "log_return1_sqr_sum_200                   474\n",
      "volume_momentum_unsigned_sum_stock127     466\n",
      "price_spread_mean                         464\n",
      "momentum_unsigned_sum_stock131            451\n",
      "trade_seconds_in_bucket_nunique_min_time  434\n",
      "log_return2_sqr_sum_500_mean_stock        421\n",
      "\n",
      "XGBoost Rmspe CV: 0.22291659855734947 time:  292 s [0.00459689 0.04461113 0.04461113]\n"
     ]
    }
   ],
   "source": [
    "xgbtime = time.time()\n",
    "\n",
    "# Define the custom metric to optimize\n",
    "def evalerror(preds, dtrain):\n",
    "    labels = dtrain.get_label()\n",
    "    err = rmspe(labels, preds)\n",
    "    return 'rmspe', err\n",
    "\n",
    "def train_and_evaluate_xgb(train, test, params, colNames):\n",
    "    # Sample weight\n",
    "    train['target_sqr'] = 1. / (train['target'] ** 1.55 + 9e-7)    \n",
    "\n",
    "    dtest = xgb.DMatrix(test[colNames])\n",
    "\n",
    "    y_train = np.zeros(len(train))\n",
    "    y_test = np.zeros(len(test))\n",
    "\n",
    "    kf = GroupKFold(n_splits=NFOLD)\n",
    "    for fold, (train_idx, valid_idx) in enumerate(kf.split(train, y_target, time_id)):\n",
    "        print('Fold:', fold)\n",
    "        dtrain = xgb.DMatrix(train.loc[train_idx, colNames], train.loc[train_idx, 'target'], weight=train.loc[train_idx, 'target_sqr'])\n",
    "        dvalid = xgb.DMatrix(train.loc[valid_idx, colNames], train.loc[valid_idx, 'target'])\n",
    "        model = xgb.train(\n",
    "            params,\n",
    "            dtrain,\n",
    "            3000,\n",
    "            #[(dtrain, \"train\"), (dvalid, \"valid\")],\n",
    "            [(dvalid, \"valid\")],\n",
    "            verbose_eval=250,\n",
    "            early_stopping_rounds=50,\n",
    "            feval=evalerror,\n",
    "        )\n",
    "        y_train[valid_idx] = np.clip(model.predict(dvalid), 2e-4, 0.072)\n",
    "        y_test += np.clip((model.predict(dtest)), 2e-4, 0.072)\n",
    "        print( 'Rmspe Fold:', rmspe(y_target[valid_idx], y_train[valid_idx]) )\n",
    "    y_test /= NFOLD\n",
    "    \n",
    "    print( 'XGBoost Rmspe CV:', rmspe(y_target, y_train) )\n",
    "    print( pandas.DataFrame.from_dict( model.get_score(), orient='index').sort_values(0, ascending=False).head(20) )\n",
    "    print()\n",
    "    \n",
    "    del model, dtest, dtrain, dvalid\n",
    "    _ = gc.collect()\n",
    "    \n",
    "    return y_train, y_test\n",
    "\n",
    "\n",
    "colNames = [col for col in list(train.columns) if col not in {'is_train', 'time_id', 'target', 'row_id', 'target_sqr', 'is_train'}]\n",
    "colNames = [col for col in colNames if col.find('min')<0 ]\n",
    "params = {\n",
    "        \"subsample\": 0.60,\n",
    "        \"colsample_bytree\": 0.40,\n",
    "        \"max_depth\": 6,\n",
    "        \"learning_rate\": 0.02,\n",
    "        \"objective\": \"reg:squarederror\",\n",
    "        'disable_default_eval_metric': 1, # <- necessary for XGBoost to earlystop by Rmspe and not the default rmse\n",
    "        \"nthread\": -1,\n",
    "        \"tree_method\": \"gpu_hist\",\n",
    "        \"gpu_id\": 0,\n",
    "        \"max_bin\": 128, \n",
    "        'min_child_weight': 2,\n",
    "        'reg_lambda': 0.001,\n",
    "        'reg_alpha': 0.01, \n",
    "        'seed' : 2021,\n",
    "    }\n",
    "y_train1a, y_test1a = train_and_evaluate_xgb(train, test, params, colNames)\n",
    "\n",
    "\n",
    "colNames = [col for col in list(train.columns) if col not in {'is_train', 'time_id', 'target', 'row_id', 'target_sqr', 'is_train'}]\n",
    "colNames = [col for col in colNames if col.find('max')<0 ]\n",
    "params = {\n",
    "        \"subsample\": 0.85,\n",
    "        \"colsample_bytree\": 0.25,\n",
    "        \"max_depth\": 7,\n",
    "        \"learning_rate\": 0.02,\n",
    "        \"objective\": \"reg:squarederror\",\n",
    "        'disable_default_eval_metric': 1, # <- necessary for XGBoost to earlystop by Rmspe and not the default rmse\n",
    "        \"nthread\": -1,\n",
    "        \"tree_method\": \"gpu_hist\",\n",
    "        \"gpu_id\": 0,\n",
    "        \"max_bin\": 128, \n",
    "        'min_child_weight': 2,\n",
    "        'reg_lambda': 0.001,\n",
    "        'reg_alpha': 0.01, \n",
    "        'seed' : 2022,\n",
    "    }\n",
    "y_train1b, y_test1b = train_and_evaluate_xgb(train, test, params, colNames)\n",
    "\n",
    "\n",
    "y_train1 = 0.75*y_train1a + 0.25*y_train1b\n",
    "y_test1  = 0.75*y_test1a  + 0.25*y_test1b\n",
    "\n",
    "\n",
    "xgbtime = time.time() - xgbtime\n",
    "\n",
    "print( 'XGBoost Rmspe CV:', rmspe(y_target, y_train1), 'time: ', int(xgbtime), 's', y_test1[:3] )"
   ]
  },
  {
   "cell_type": "code",
   "execution_count": 21,
   "id": "86b71544",
   "metadata": {
    "execution": {
     "iopub.execute_input": "2021-09-22T22:19:43.130433Z",
     "iopub.status.busy": "2021-09-22T22:19:43.129506Z",
     "iopub.status.idle": "2021-09-22T22:26:09.040155Z",
     "shell.execute_reply": "2021-09-22T22:26:09.040735Z",
     "shell.execute_reply.started": "2021-09-22T21:53:03.592268Z"
    },
    "papermill": {
     "duration": 386.001781,
     "end_time": "2021-09-22T22:26:09.040901",
     "exception": false,
     "start_time": "2021-09-22T22:19:43.039120",
     "status": "completed"
    },
    "tags": []
   },
   "outputs": [
    {
     "name": "stdout",
     "output_type": "stream",
     "text": [
      "Fold: 0\n",
      "Catboost Rmspe Fold: 0.2218116038440418\n",
      "\n",
      "Fold: 1\n",
      "Catboost Rmspe Fold: 0.23428544233093865\n",
      "\n",
      "Fold: 2\n",
      "Catboost Rmspe Fold: 0.22026244737534587\n",
      "\n",
      "Fold: 3\n",
      "Catboost Rmspe Fold: 0.21740859558491046\n",
      "\n",
      "Fold: 4\n",
      "Catboost Rmspe Fold: 0.2149288303269312\n",
      "\n",
      "Catboost Rmspe CV: 0.22184073898626325 time:  385 s [0.00162711 0.001964   0.001964  ]\n"
     ]
    }
   ],
   "source": [
    "catbtime = time.time()\n",
    "\n",
    "def train_and_evaluate_catb(train, test, params):\n",
    "\n",
    "    # Sample weight\n",
    "    train['target_sqr'] = 1. / (train['target'] ** 1.75 + 1e-6)\n",
    "\n",
    "    colNames = [col for col in list(train.columns) if col not in {'is_train', 'time_id', 'target', 'row_id', 'target_sqr', 'is_train'}]\n",
    "\n",
    "    y_train = np.zeros(len(train))\n",
    "    y_test = np.zeros(len(test))\n",
    "\n",
    "    kf = GroupKFold(n_splits=NFOLD)\n",
    "    for fold, (train_idx, valid_idx) in enumerate(kf.split(train, y_target, time_id)):\n",
    "        print('Fold:', fold)\n",
    "\n",
    "        model = CatBoostRegressor(\n",
    "            iterations=3000,\n",
    "            learning_rate=0.05,\n",
    "            depth=7,\n",
    "            loss_function='RMSE',\n",
    "            #l2_leaf_reg = 0.001,\n",
    "            #random_strength = 0.5,\n",
    "            #bagging_temperature = 1.0,\n",
    "            task_type=\"GPU\",\n",
    "            random_seed = 2021,\n",
    "        )        \n",
    "        model.fit(\n",
    "            X=train.loc[train_idx, colNames].to_pandas(), y=train.loc[train_idx, 'target'].to_pandas(),\n",
    "            sample_weight = train.loc[train_idx, 'target_sqr'].to_pandas(),\n",
    "            eval_set = (train.loc[valid_idx, colNames].to_pandas(), train.loc[valid_idx, 'target'].to_pandas(),),\n",
    "            early_stopping_rounds = 20,\n",
    "            cat_features = [0],\n",
    "            verbose=False)\n",
    "\n",
    "        y_train[valid_idx] = np.clip(model.predict(train.loc[valid_idx, colNames].to_pandas()), 2e-4, 0.072)\n",
    "        y_test += np.clip((model.predict(test[colNames].to_pandas())), 2e-4, 0.072)\n",
    "        print( 'Catboost Rmspe Fold:', rmspe(y_target[valid_idx], y_train[valid_idx]) )        \n",
    "        print()\n",
    "    y_test /= NFOLD\n",
    "    return y_train, y_test\n",
    "\n",
    "\n",
    "y_train2, y_test2 = train_and_evaluate_catb(train, test, params)\n",
    "_= gc.collect()\n",
    "catbtime = time.time() - catbtime\n",
    "     \n",
    "print( 'Catboost Rmspe CV:', rmspe(y_target, y_train2), 'time: ', int(catbtime), 's', y_test2[:3]  )"
   ]
  },
  {
   "cell_type": "markdown",
   "id": "89c8935e",
   "metadata": {
    "papermill": {
     "duration": 0.080017,
     "end_time": "2021-09-22T22:26:09.200986",
     "exception": false,
     "start_time": "2021-09-22T22:26:09.120969",
     "status": "completed"
    },
    "tags": []
   },
   "source": [
    "# LightGBM GPU"
   ]
  },
  {
   "cell_type": "code",
   "execution_count": 22,
   "id": "28af234f",
   "metadata": {
    "execution": {
     "iopub.execute_input": "2021-09-22T22:26:09.387836Z",
     "iopub.status.busy": "2021-09-22T22:26:09.386910Z",
     "iopub.status.idle": "2021-09-22T22:33:13.322211Z",
     "shell.execute_reply": "2021-09-22T22:33:13.322611Z",
     "shell.execute_reply.started": "2021-09-22T21:59:26.611439Z"
    },
    "papermill": {
     "duration": 424.039442,
     "end_time": "2021-09-22T22:33:13.322773",
     "exception": false,
     "start_time": "2021-09-22T22:26:09.283331",
     "status": "completed"
    },
    "tags": []
   },
   "outputs": [
    {
     "name": "stdout",
     "output_type": "stream",
     "text": [
      "Fold: 0\n",
      "Training until validation scores don't improve for 20 rounds\n",
      "[100]\ttraining's rmse: 0.000506001\ttraining's RMSPE: 0.216485\tvalid_1's rmse: 0.00139147\tvalid_1's RMSPE: 0.223908\n",
      "[200]\ttraining's rmse: 0.000481151\ttraining's RMSPE: 0.20341\tvalid_1's rmse: 0.00133889\tvalid_1's RMSPE: 0.219213\n",
      "[300]\ttraining's rmse: 0.000466367\ttraining's RMSPE: 0.196176\tvalid_1's rmse: 0.00131556\tvalid_1's RMSPE: 0.21767\n",
      "[400]\ttraining's rmse: 0.00045586\ttraining's RMSPE: 0.190956\tvalid_1's rmse: 0.00129872\tvalid_1's RMSPE: 0.216992\n",
      "[500]\ttraining's rmse: 0.000447594\ttraining's RMSPE: 0.186824\tvalid_1's rmse: 0.00128797\tvalid_1's RMSPE: 0.216473\n",
      "[600]\ttraining's rmse: 0.000441103\ttraining's RMSPE: 0.183586\tvalid_1's rmse: 0.00128\tvalid_1's RMSPE: 0.216321\n",
      "Early stopping, best iteration is:\n",
      "[670]\ttraining's rmse: 0.00043707\ttraining's RMSPE: 0.181552\tvalid_1's rmse: 0.00127352\tvalid_1's RMSPE: 0.216099\n",
      "Fold: 1\n",
      "Training until validation scores don't improve for 20 rounds\n",
      "[100]\ttraining's rmse: 0.000504446\ttraining's RMSPE: 0.213768\tvalid_1's rmse: 0.00134615\tvalid_1's RMSPE: 0.239901\n",
      "[200]\ttraining's rmse: 0.000478881\ttraining's RMSPE: 0.201254\tvalid_1's rmse: 0.00130102\tvalid_1's RMSPE: 0.234207\n",
      "[300]\ttraining's rmse: 0.000464094\ttraining's RMSPE: 0.194265\tvalid_1's rmse: 0.00128362\tvalid_1's RMSPE: 0.23185\n",
      "[400]\ttraining's rmse: 0.00045348\ttraining's RMSPE: 0.189232\tvalid_1's rmse: 0.00127129\tvalid_1's RMSPE: 0.230904\n",
      "[500]\ttraining's rmse: 0.000445827\ttraining's RMSPE: 0.185608\tvalid_1's rmse: 0.00126263\tvalid_1's RMSPE: 0.229669\n",
      "Early stopping, best iteration is:\n",
      "[496]\ttraining's rmse: 0.000446139\ttraining's RMSPE: 0.185745\tvalid_1's rmse: 0.00126276\tvalid_1's RMSPE: 0.229645\n",
      "Fold: 2\n",
      "Training until validation scores don't improve for 20 rounds\n",
      "[100]\ttraining's rmse: 0.00050862\ttraining's RMSPE: 0.217473\tvalid_1's rmse: 0.0011893\tvalid_1's RMSPE: 0.221008\n",
      "[200]\ttraining's rmse: 0.000482821\ttraining's RMSPE: 0.204076\tvalid_1's rmse: 0.00114867\tvalid_1's RMSPE: 0.217657\n",
      "[300]\ttraining's rmse: 0.000467272\ttraining's RMSPE: 0.196403\tvalid_1's rmse: 0.00113182\tvalid_1's RMSPE: 0.216733\n",
      "Early stopping, best iteration is:\n",
      "[327]\ttraining's rmse: 0.000463985\ttraining's RMSPE: 0.194787\tvalid_1's rmse: 0.00112837\tvalid_1's RMSPE: 0.216559\n",
      "Fold: 3\n",
      "Training until validation scores don't improve for 20 rounds\n",
      "[100]\ttraining's rmse: 0.00050924\ttraining's RMSPE: 0.217278\tvalid_1's rmse: 0.00126625\tvalid_1's RMSPE: 0.224318\n",
      "[200]\ttraining's rmse: 0.00048311\ttraining's RMSPE: 0.203537\tvalid_1's rmse: 0.00122497\tvalid_1's RMSPE: 0.218913\n",
      "[300]\ttraining's rmse: 0.000467171\ttraining's RMSPE: 0.195851\tvalid_1's rmse: 0.00120726\tvalid_1's RMSPE: 0.217641\n",
      "[400]\ttraining's rmse: 0.000456613\ttraining's RMSPE: 0.190666\tvalid_1's rmse: 0.00119719\tvalid_1's RMSPE: 0.216859\n",
      "Early stopping, best iteration is:\n",
      "[398]\ttraining's rmse: 0.000456747\ttraining's RMSPE: 0.190756\tvalid_1's rmse: 0.00119746\tvalid_1's RMSPE: 0.216778\n",
      "Fold: 4\n",
      "Training until validation scores don't improve for 20 rounds\n",
      "[100]\ttraining's rmse: 0.000508251\ttraining's RMSPE: 0.21833\tvalid_1's rmse: 0.001235\tvalid_1's RMSPE: 0.21865\n",
      "[200]\ttraining's rmse: 0.000481531\ttraining's RMSPE: 0.204511\tvalid_1's rmse: 0.00118778\tvalid_1's RMSPE: 0.215458\n",
      "Early stopping, best iteration is:\n",
      "[205]\ttraining's rmse: 0.000480481\ttraining's RMSPE: 0.203993\tvalid_1's rmse: 0.00118489\tvalid_1's RMSPE: 0.215231\n",
      "LightGBM Rmspe Fold: 0.21892936615106087\n",
      "LightGBM Rmspe CV: 0.21892936615106087 time:  423 s [0.00084603 0.00099625 0.00099625]\n"
     ]
    },
    {
     "data": {
      "image/png": "[encoded data removed]",
      "text/plain": [
       "<Figure size 432x288 with 1 Axes>"
      ]
     },
     "metadata": {
      "needs_background": "light"
     },
     "output_type": "display_data"
    }
   ],
   "source": [
    "lgbtime = time.time()\n",
    "\n",
    "# Define the custom metric to optimize\n",
    "def rmspe(y_true, y_pred):\n",
    "    return np.sqrt(np.mean(np.square((y_true - y_pred) / y_true)))\n",
    "\n",
    "def feval_rmspe(y_pred, lgb_train):\n",
    "    y_true = lgb_train.get_label()\n",
    "    return 'RMSPE', rmspe(y_true, y_pred), False\n",
    "\n",
    "def train_and_evaluate_lgb(train, test, params):\n",
    "    \n",
    "    features = [col for col in train.columns if col not in {\"time_id\", \"target\", \"target_sqr\", \"row_id\", 'is_train'}]\n",
    "    y = train['target']\n",
    "    \n",
    "    y_train = np.zeros(train.shape[0])\n",
    "    y_test = np.zeros(test.shape[0])\n",
    "    \n",
    "    kf = GroupKFold(n_splits=NFOLD)\n",
    "    for fold, (trn_ind, val_ind) in enumerate(kf.split(train, y_target, time_id)):\n",
    "        print('Fold:', fold)\n",
    "        x_train, x_val = train.iloc[trn_ind], train.iloc[val_ind]\n",
    "        y_tra, y_val = y.iloc[trn_ind], y.iloc[val_ind]\n",
    "        \n",
    "        train_dataset = lgb.Dataset(x_train[features], y_tra, weight = (1. / (np.square(y_tra) + 1e-6)) )\n",
    "        valid_dataset = lgb.Dataset(x_val[features], y_val)\n",
    "        model = lgb.train(params = params,\n",
    "                          num_boost_round=3000,\n",
    "                          train_set = train_dataset, \n",
    "                          valid_sets = [train_dataset, valid_dataset], \n",
    "                          verbose_eval = 100,\n",
    "                          early_stopping_rounds=20,\n",
    "                          feval = feval_rmspe)\n",
    "        \n",
    "        y_train[val_ind] = np.clip(model.predict(x_val[features]), 2e-4, 0.072)\n",
    "        y_test += np.clip((model.predict(test[features])), 2e-4, 0.072)        \n",
    "    y_test/=NFOLD\n",
    "    \n",
    "    print('LightGBM Rmspe Fold:', rmspe(y_target, y_train))\n",
    "    lgb.plot_importance(model,max_num_features=20)\n",
    "    \n",
    "    return y_train, y_test\n",
    "\n",
    "\n",
    "params = {\n",
    "    'objective': 'rmse',\n",
    "    'boosting_type': 'gbdt',\n",
    "    'max_depth': -1,\n",
    "    'max_bin':255,\n",
    "    'min_data_in_leaf':750,\n",
    "    'learning_rate': 0.05,\n",
    "    'subsample': 0.72,\n",
    "    'subsample_freq': 3,\n",
    "    'feature_fraction': 0.5,\n",
    "    'lambda_l1': 0.5,\n",
    "    'lambda_l2': 1.0,\n",
    "    'categorical_column':[0],\n",
    "    'seed':2021,\n",
    "    'n_jobs':-1,\n",
    "    'verbose': -1,\n",
    "    'device': 'gpu',\n",
    "    'num_gpu': 1,\n",
    "    'gpu_platform_id':-1,\n",
    "    'gpu_device_id':-1,\n",
    "    'gpu_use_dp': False,\n",
    "}\n",
    "\n",
    "y_train3, y_test3 = train_and_evaluate_lgb(train.to_pandas(), test.to_pandas(), params)\n",
    "_= gc.collect()\n",
    "\n",
    "print( 'LightGBM Rmspe CV:', rmspe(y_target, y_train3), 'time: ', int(time.time() - lgbtime), 's', y_test3[:3]   )"
   ]
  },
  {
   "cell_type": "markdown",
   "id": "8407e671",
   "metadata": {
    "papermill": {
     "duration": 0.090217,
     "end_time": "2021-09-22T22:33:13.541749",
     "exception": false,
     "start_time": "2021-09-22T22:33:13.451532",
     "status": "completed"
    },
    "tags": []
   },
   "source": [
    "# Ensembling Time"
   ]
  },
  {
   "cell_type": "code",
   "execution_count": 23,
   "id": "684859bb",
   "metadata": {
    "execution": {
     "iopub.execute_input": "2021-09-22T22:33:13.731730Z",
     "iopub.status.busy": "2021-09-22T22:33:13.730627Z",
     "iopub.status.idle": "2021-09-22T22:33:13.744275Z",
     "shell.execute_reply": "2021-09-22T22:33:13.743706Z",
     "shell.execute_reply.started": "2021-09-22T22:06:12.344756Z"
    },
    "papermill": {
     "duration": 0.11008,
     "end_time": "2021-09-22T22:33:13.744427",
     "exception": false,
     "start_time": "2021-09-22T22:33:13.634347",
     "status": "completed"
    },
    "tags": []
   },
   "outputs": [
    {
     "name": "stdout",
     "output_type": "stream",
     "text": [
      "LightGBM Rmspe: 0.21892936615106087\n",
      "XGBoost Rmspe: 0.22291659855734947\n",
      "CatBoost Rmspe: 0.22184073898626325\n"
     ]
    }
   ],
   "source": [
    "print( 'LightGBM Rmspe:', rmspe(y_target, y_train3) )\n",
    "print( 'XGBoost Rmspe:', rmspe(y_target, y_train1) )\n",
    "print( 'CatBoost Rmspe:', rmspe(y_target, y_train2) )"
   ]
  },
  {
   "cell_type": "code",
   "execution_count": 24,
   "id": "6eafe4d4",
   "metadata": {
    "execution": {
     "iopub.execute_input": "2021-09-22T22:33:13.936316Z",
     "iopub.status.busy": "2021-09-22T22:33:13.935810Z",
     "iopub.status.idle": "2021-09-22T22:33:14.350318Z",
     "shell.execute_reply": "2021-09-22T22:33:14.351060Z",
     "shell.execute_reply.started": "2021-09-22T22:06:12.362604Z"
    },
    "papermill": {
     "duration": 0.511218,
     "end_time": "2021-09-22T22:33:14.351307",
     "exception": false,
     "start_time": "2021-09-22T22:33:13.840089",
     "status": "completed"
    },
    "tags": []
   },
   "outputs": [
    {
     "name": "stdout",
     "output_type": "stream",
     "text": [
      "Optimization terminated successfully.\n",
      "         Current function value: 0.216723\n",
      "         Iterations: 23\n",
      "         Function evaluations: 100\n",
      "         Gradient evaluations: 25\n",
      "Weights arit: [0.1172443  0.21160872 0.64452596]\n"
     ]
    }
   ],
   "source": [
    "def minimize_arit(W):\n",
    "    ypred = W[0] * y_train1 + W[1] * y_train2 + W[2] * y_train3\n",
    "    return rmspe(y_target, ypred )\n",
    "\n",
    "W0 = minimize(minimize_arit, [1./3]*3, options={'gtol': 1e-6, 'disp': True}).x\n",
    "print('Weights arit:',W0)"
   ]
  },
  {
   "cell_type": "code",
   "execution_count": 25,
   "id": "dde1878d",
   "metadata": {
    "execution": {
     "iopub.execute_input": "2021-09-22T22:33:14.544683Z",
     "iopub.status.busy": "2021-09-22T22:33:14.543680Z",
     "iopub.status.idle": "2021-09-22T22:33:55.571922Z",
     "shell.execute_reply": "2021-09-22T22:33:55.572384Z",
     "shell.execute_reply.started": "2021-09-22T22:06:12.698602Z"
    },
    "papermill": {
     "duration": 41.12589,
     "end_time": "2021-09-22T22:33:55.572533",
     "exception": false,
     "start_time": "2021-09-22T22:33:14.446643",
     "status": "completed"
    },
    "tags": []
   },
   "outputs": [
    {
     "name": "stdout",
     "output_type": "stream",
     "text": [
      "Warning: Desired error not necessarily achieved due to precision loss.\n",
      "         Current function value: 0.216513\n",
      "         Iterations: 26\n",
      "         Function evaluations: 476\n",
      "         Gradient evaluations: 115\n",
      "weights geom: [0.13681704 0.21649332 0.65145041]\n"
     ]
    }
   ],
   "source": [
    "def signed_power(var, p=2):\n",
    "    return np.sign(var) * np.abs(var)**p\n",
    "\n",
    "def minimize_geom(W):\n",
    "    ypred = signed_power(y_train1, W[0]) * signed_power(y_train2, W[1]) * signed_power(y_train3, W[2])\n",
    "    return rmspe(y_target, ypred)\n",
    "\n",
    "W1 = minimize(minimize_geom, [1./3]*3, options={'gtol': 1e-6, 'disp': True}).x\n",
    "\n",
    "print('weights geom:',W1)"
   ]
  },
  {
   "cell_type": "code",
   "execution_count": 26,
   "id": "f489153b",
   "metadata": {
    "execution": {
     "iopub.execute_input": "2021-09-22T22:33:55.758287Z",
     "iopub.status.busy": "2021-09-22T22:33:55.757413Z",
     "iopub.status.idle": "2021-09-22T22:33:55.849782Z",
     "shell.execute_reply": "2021-09-22T22:33:55.850354Z",
     "shell.execute_reply.started": "2021-09-22T22:06:33.901905Z"
    },
    "papermill": {
     "duration": 0.188303,
     "end_time": "2021-09-22T22:33:55.850509",
     "exception": false,
     "start_time": "2021-09-22T22:33:55.662206",
     "status": "completed"
    },
    "tags": []
   },
   "outputs": [
    {
     "name": "stdout",
     "output_type": "stream",
     "text": [
      "0.00036092153001403515 0.02036468712865803\n",
      "0.0003571056420813867 0.02055128115485962\n",
      "Ensemble: 0.21661269724888246\n"
     ]
    }
   ],
   "source": [
    "ypred0 = W0[0] * y_train1 + W0[1] * y_train2 + W0[2] * y_train3\n",
    "print( np.min(ypred0), np.max(ypred0))\n",
    "\n",
    "ypred1 = signed_power(y_train1, W1[0]) * signed_power(y_train2, W1[1]) * signed_power(y_train3, W1[2])\n",
    "print( np.min(ypred1) , np.max(ypred1) )\n",
    "\n",
    "print( 'Ensemble:', rmspe(y_target, np.clip((ypred0+ypred1)/2 ,0.0002, 0.071) ) )"
   ]
  },
  {
   "cell_type": "code",
   "execution_count": 27,
   "id": "afb7c3ba",
   "metadata": {
    "execution": {
     "iopub.execute_input": "2021-09-22T22:33:56.040545Z",
     "iopub.status.busy": "2021-09-22T22:33:56.039589Z",
     "iopub.status.idle": "2021-09-22T22:33:56.047240Z",
     "shell.execute_reply": "2021-09-22T22:33:56.047909Z",
     "shell.execute_reply.started": "2021-09-22T22:06:34.009395Z"
    },
    "papermill": {
     "duration": 0.102959,
     "end_time": "2021-09-22T22:33:56.048078",
     "exception": false,
     "start_time": "2021-09-22T22:33:55.945119",
     "status": "completed"
    },
    "tags": []
   },
   "outputs": [
    {
     "name": "stdout",
     "output_type": "stream",
     "text": [
      "0.00036092153001403515 0.0035054037151967476 0.02036468712865803 0.002369979073588085\n",
      "0.0003571056420813867 0.003508673521200343 0.02055128115485962 0.0023855323180432203\n"
     ]
    }
   ],
   "source": [
    "print( np.min(ypred0),np.mean(ypred0),np.max(ypred0),np.std(ypred0) )\n",
    "print( np.min(ypred1),np.mean(ypred1),np.max(ypred1),np.std(ypred1) )"
   ]
  },
  {
   "cell_type": "code",
   "execution_count": 28,
   "id": "9fb938be",
   "metadata": {
    "execution": {
     "iopub.execute_input": "2021-09-22T22:33:56.253799Z",
     "iopub.status.busy": "2021-09-22T22:33:56.252783Z",
     "iopub.status.idle": "2021-09-22T22:33:56.811597Z",
     "shell.execute_reply": "2021-09-22T22:33:56.812326Z",
     "shell.execute_reply.started": "2021-09-22T22:06:34.025748Z"
    },
    "papermill": {
     "duration": 0.668902,
     "end_time": "2021-09-22T22:33:56.812476",
     "exception": false,
     "start_time": "2021-09-22T22:33:56.143574",
     "status": "completed"
    },
    "tags": []
   },
   "outputs": [
    {
     "data": {
      "text/plain": [
       "(array([5.0600e+02, 1.9870e+03, 5.6940e+03, 1.2091e+04, 1.8320e+04,\n",
       "        2.2033e+04, 2.5574e+04, 2.7084e+04, 2.5895e+04, 2.5015e+04,\n",
       "        2.3966e+04, 2.1901e+04, 1.9961e+04, 1.8523e+04, 1.6770e+04,\n",
       "        1.5271e+04, 1.3547e+04, 1.2134e+04, 1.0779e+04, 9.9160e+03,\n",
       "        8.9600e+03, 8.0330e+03, 7.2740e+03, 6.3440e+03, 5.9240e+03,\n",
       "        5.3170e+03, 4.8340e+03, 4.3880e+03, 3.8690e+03, 3.5510e+03,\n",
       "        3.1930e+03, 3.0410e+03, 2.6720e+03, 2.6260e+03, 2.2340e+03,\n",
       "        2.1330e+03, 1.9160e+03, 1.7890e+03, 1.6360e+03, 1.4630e+03,\n",
       "        1.3890e+03, 1.3300e+03, 1.1450e+03, 1.1890e+03, 1.0990e+03,\n",
       "        9.9100e+02, 9.3700e+02, 9.2200e+02, 8.1600e+02, 7.6400e+02,\n",
       "        6.9500e+02, 7.0400e+02, 6.1200e+02, 5.6600e+02, 5.2000e+02,\n",
       "        4.5600e+02, 5.0400e+02, 4.8200e+02, 4.4500e+02, 3.8100e+02,\n",
       "        3.9000e+02, 3.3300e+02, 3.2100e+02, 3.0900e+02, 2.7400e+02,\n",
       "        2.5400e+02, 2.3800e+02, 2.4900e+02, 2.0500e+02, 2.3400e+02,\n",
       "        2.0700e+02, 2.0000e+02, 1.6900e+02, 1.5000e+02, 1.3600e+02,\n",
       "        1.3200e+02, 1.3000e+02, 1.1400e+02, 9.3000e+01, 1.0300e+02,\n",
       "        9.4000e+01, 6.7000e+01, 7.2000e+01, 5.4000e+01, 5.6000e+01,\n",
       "        3.8000e+01, 4.0000e+01, 4.3000e+01, 2.9000e+01, 2.2000e+01,\n",
       "        1.3000e+01, 1.4000e+01, 9.0000e+00, 8.0000e+00, 7.0000e+00,\n",
       "        6.0000e+00, 2.0000e+00, 3.0000e+00, 2.0000e+00, 1.0000e+00]),\n",
       " array([0.00035711, 0.00055905, 0.00076099, 0.00096293, 0.00116487,\n",
       "        0.00136681, 0.00156876, 0.0017707 , 0.00197264, 0.00217458,\n",
       "        0.00237652, 0.00257846, 0.00278041, 0.00298235, 0.00318429,\n",
       "        0.00338623, 0.00358817, 0.00379012, 0.00399206, 0.004194  ,\n",
       "        0.00439594, 0.00459788, 0.00479982, 0.00500177, 0.00520371,\n",
       "        0.00540565, 0.00560759, 0.00580953, 0.00601147, 0.00621342,\n",
       "        0.00641536, 0.0066173 , 0.00681924, 0.00702118, 0.00722313,\n",
       "        0.00742507, 0.00762701, 0.00782895, 0.00803089, 0.00823283,\n",
       "        0.00843478, 0.00863672, 0.00883866, 0.0090406 , 0.00924254,\n",
       "        0.00944448, 0.00964643, 0.00984837, 0.01005031, 0.01025225,\n",
       "        0.01045419, 0.01065614, 0.01085808, 0.01106002, 0.01126196,\n",
       "        0.0114639 , 0.01166584, 0.01186779, 0.01206973, 0.01227167,\n",
       "        0.01247361, 0.01267555, 0.01287749, 0.01307944, 0.01328138,\n",
       "        0.01348332, 0.01368526, 0.0138872 , 0.01408914, 0.01429109,\n",
       "        0.01449303, 0.01469497, 0.01489691, 0.01509885, 0.0153008 ,\n",
       "        0.01550274, 0.01570468, 0.01590662, 0.01610856, 0.0163105 ,\n",
       "        0.01651245, 0.01671439, 0.01691633, 0.01711827, 0.01732021,\n",
       "        0.01752215, 0.0177241 , 0.01792604, 0.01812798, 0.01832992,\n",
       "        0.01853186, 0.01873381, 0.01893575, 0.01913769, 0.01933963,\n",
       "        0.01954157, 0.01974351, 0.01994546, 0.0201474 , 0.02034934,\n",
       "        0.02055128]),\n",
       " <BarContainer object of 100 artists>)"
      ]
     },
     "execution_count": 28,
     "metadata": {},
     "output_type": "execute_result"
    },
    {
     "data": {
      "image/png": "[encoded data removed]",
      "text/plain": [
       "<Figure size 432x288 with 1 Axes>"
      ]
     },
     "metadata": {
      "needs_background": "light"
     },
     "output_type": "display_data"
    }
   ],
   "source": [
    "plt.hist(ypred0, bins=100)\n",
    "plt.hist(ypred1, bins=100, alpha=0.5)"
   ]
  },
  {
   "cell_type": "code",
   "execution_count": 29,
   "id": "4c013935",
   "metadata": {
    "execution": {
     "iopub.execute_input": "2021-09-22T22:33:57.009300Z",
     "iopub.status.busy": "2021-09-22T22:33:57.008514Z",
     "iopub.status.idle": "2021-09-22T22:33:57.048829Z",
     "shell.execute_reply": "2021-09-22T22:33:57.048384Z",
     "shell.execute_reply.started": "2021-09-22T22:06:34.658023Z"
    },
    "papermill": {
     "duration": 0.145296,
     "end_time": "2021-09-22T22:33:57.048941",
     "exception": false,
     "start_time": "2021-09-22T22:33:56.903645",
     "status": "completed"
    },
    "tags": []
   },
   "outputs": [
    {
     "data": {
      "text/html": [
       "<div>\n",
       "<style scoped>\n",
       "    .dataframe tbody tr th:only-of-type {\n",
       "        vertical-align: middle;\n",
       "    }\n",
       "\n",
       "    .dataframe tbody tr th {\n",
       "        vertical-align: top;\n",
       "    }\n",
       "\n",
       "    .dataframe thead th {\n",
       "        text-align: right;\n",
       "    }\n",
       "</style>\n",
       "<table border=\"1\" class=\"dataframe\">\n",
       "  <thead>\n",
       "    <tr style=\"text-align: right;\">\n",
       "      <th></th>\n",
       "      <th>stock_id</th>\n",
       "      <th>error</th>\n",
       "    </tr>\n",
       "  </thead>\n",
       "  <tbody>\n",
       "    <tr>\n",
       "      <th>50</th>\n",
       "      <td>31</td>\n",
       "      <td>0.637885</td>\n",
       "    </tr>\n",
       "    <tr>\n",
       "      <th>1</th>\n",
       "      <td>37</td>\n",
       "      <td>0.290798</td>\n",
       "    </tr>\n",
       "    <tr>\n",
       "      <th>111</th>\n",
       "      <td>18</td>\n",
       "      <td>0.282427</td>\n",
       "    </tr>\n",
       "    <tr>\n",
       "      <th>26</th>\n",
       "      <td>33</td>\n",
       "      <td>0.276736</td>\n",
       "    </tr>\n",
       "    <tr>\n",
       "      <th>17</th>\n",
       "      <td>88</td>\n",
       "      <td>0.272762</td>\n",
       "    </tr>\n",
       "    <tr>\n",
       "      <th>28</th>\n",
       "      <td>60</td>\n",
       "      <td>0.268814</td>\n",
       "    </tr>\n",
       "    <tr>\n",
       "      <th>39</th>\n",
       "      <td>110</td>\n",
       "      <td>0.266686</td>\n",
       "    </tr>\n",
       "    <tr>\n",
       "      <th>18</th>\n",
       "      <td>81</td>\n",
       "      <td>0.259383</td>\n",
       "    </tr>\n",
       "    <tr>\n",
       "      <th>9</th>\n",
       "      <td>27</td>\n",
       "      <td>0.259048</td>\n",
       "    </tr>\n",
       "    <tr>\n",
       "      <th>57</th>\n",
       "      <td>80</td>\n",
       "      <td>0.256940</td>\n",
       "    </tr>\n",
       "  </tbody>\n",
       "</table>\n",
       "</div>"
      ],
      "text/plain": [
       "     stock_id     error\n",
       "50         31  0.637885\n",
       "1          37  0.290798\n",
       "111        18  0.282427\n",
       "26         33  0.276736\n",
       "17         88  0.272762\n",
       "28         60  0.268814\n",
       "39        110  0.266686\n",
       "18         81  0.259383\n",
       "9          27  0.259048\n",
       "57         80  0.256940"
      ]
     },
     "execution_count": 29,
     "metadata": {},
     "output_type": "execute_result"
    }
   ],
   "source": [
    "train['ypred'] = np.clip((ypred0+ypred1)/2 ,0.0002, 0.071)\n",
    "train['error'] = (train['target'] - train['ypred']) / train['target']\n",
    "train['error'] = train['error']**2\n",
    "\n",
    "dt = train.groupby('stock_id')['error'].agg('mean').reset_index()\n",
    "dt['error'] = np.sqrt(dt['error'])\n",
    "dt = dt.sort_values('error', ascending=False)\n",
    "dt.to_csv('error-contribution.csv', index=False)\n",
    "del train['ypred'], train['error']\n",
    "dt.head(10)"
   ]
  },
  {
   "cell_type": "code",
   "execution_count": 30,
   "id": "0cc19a60",
   "metadata": {
    "execution": {
     "iopub.execute_input": "2021-09-22T22:33:57.243711Z",
     "iopub.status.busy": "2021-09-22T22:33:57.242904Z",
     "iopub.status.idle": "2021-09-22T22:33:57.257048Z",
     "shell.execute_reply": "2021-09-22T22:33:57.256588Z",
     "shell.execute_reply.started": "2021-09-22T22:06:34.705848Z"
    },
    "papermill": {
     "duration": 0.115985,
     "end_time": "2021-09-22T22:33:57.257162",
     "exception": false,
     "start_time": "2021-09-22T22:33:57.141177",
     "status": "completed"
    },
    "tags": []
   },
   "outputs": [
    {
     "data": {
      "text/html": [
       "<div>\n",
       "<style scoped>\n",
       "    .dataframe tbody tr th:only-of-type {\n",
       "        vertical-align: middle;\n",
       "    }\n",
       "\n",
       "    .dataframe tbody tr th {\n",
       "        vertical-align: top;\n",
       "    }\n",
       "\n",
       "    .dataframe thead th {\n",
       "        text-align: right;\n",
       "    }\n",
       "</style>\n",
       "<table border=\"1\" class=\"dataframe\">\n",
       "  <thead>\n",
       "    <tr style=\"text-align: right;\">\n",
       "      <th></th>\n",
       "      <th>stock_id</th>\n",
       "      <th>error</th>\n",
       "    </tr>\n",
       "  </thead>\n",
       "  <tbody>\n",
       "    <tr>\n",
       "      <th>99</th>\n",
       "      <td>61</td>\n",
       "      <td>0.170673</td>\n",
       "    </tr>\n",
       "    <tr>\n",
       "      <th>34</th>\n",
       "      <td>77</td>\n",
       "      <td>0.170498</td>\n",
       "    </tr>\n",
       "    <tr>\n",
       "      <th>74</th>\n",
       "      <td>10</td>\n",
       "      <td>0.169092</td>\n",
       "    </tr>\n",
       "    <tr>\n",
       "      <th>73</th>\n",
       "      <td>50</td>\n",
       "      <td>0.168778</td>\n",
       "    </tr>\n",
       "    <tr>\n",
       "      <th>94</th>\n",
       "      <td>35</td>\n",
       "      <td>0.168542</td>\n",
       "    </tr>\n",
       "    <tr>\n",
       "      <th>44</th>\n",
       "      <td>84</td>\n",
       "      <td>0.168212</td>\n",
       "    </tr>\n",
       "    <tr>\n",
       "      <th>100</th>\n",
       "      <td>96</td>\n",
       "      <td>0.162973</td>\n",
       "    </tr>\n",
       "    <tr>\n",
       "      <th>47</th>\n",
       "      <td>14</td>\n",
       "      <td>0.162926</td>\n",
       "    </tr>\n",
       "    <tr>\n",
       "      <th>85</th>\n",
       "      <td>124</td>\n",
       "      <td>0.162646</td>\n",
       "    </tr>\n",
       "    <tr>\n",
       "      <th>29</th>\n",
       "      <td>56</td>\n",
       "      <td>0.154537</td>\n",
       "    </tr>\n",
       "  </tbody>\n",
       "</table>\n",
       "</div>"
      ],
      "text/plain": [
       "     stock_id     error\n",
       "99         61  0.170673\n",
       "34         77  0.170498\n",
       "74         10  0.169092\n",
       "73         50  0.168778\n",
       "94         35  0.168542\n",
       "44         84  0.168212\n",
       "100        96  0.162973\n",
       "47         14  0.162926\n",
       "85        124  0.162646\n",
       "29         56  0.154537"
      ]
     },
     "execution_count": 30,
     "metadata": {},
     "output_type": "execute_result"
    }
   ],
   "source": [
    "dt.tail(10)"
   ]
  },
  {
   "cell_type": "code",
   "execution_count": 31,
   "id": "f4363ff5",
   "metadata": {
    "execution": {
     "iopub.execute_input": "2021-09-22T22:33:57.457271Z",
     "iopub.status.busy": "2021-09-22T22:33:57.456380Z",
     "iopub.status.idle": "2021-09-22T22:33:57.477060Z",
     "shell.execute_reply": "2021-09-22T22:33:57.477785Z",
     "shell.execute_reply.started": "2021-09-22T22:06:34.729035Z"
    },
    "papermill": {
     "duration": 0.121006,
     "end_time": "2021-09-22T22:33:57.477951",
     "exception": false,
     "start_time": "2021-09-22T22:33:57.356945",
     "status": "completed"
    },
    "tags": []
   },
   "outputs": [
    {
     "name": "stdout",
     "output_type": "stream",
     "text": [
      "[0.00142856 0.00628811 0.00628811] [0.00118801 0.00187841 0.00187841] [0.00130829 0.00408326 0.00408326]\n"
     ]
    },
    {
     "data": {
      "text/html": [
       "<div>\n",
       "<style scoped>\n",
       "    .dataframe tbody tr th:only-of-type {\n",
       "        vertical-align: middle;\n",
       "    }\n",
       "\n",
       "    .dataframe tbody tr th {\n",
       "        vertical-align: top;\n",
       "    }\n",
       "\n",
       "    .dataframe thead th {\n",
       "        text-align: right;\n",
       "    }\n",
       "</style>\n",
       "<table border=\"1\" class=\"dataframe\">\n",
       "  <thead>\n",
       "    <tr style=\"text-align: right;\">\n",
       "      <th></th>\n",
       "      <th>row_id</th>\n",
       "      <th>target</th>\n",
       "    </tr>\n",
       "  </thead>\n",
       "  <tbody>\n",
       "    <tr>\n",
       "      <th>0</th>\n",
       "      <td>0-4</td>\n",
       "      <td>0.001308</td>\n",
       "    </tr>\n",
       "    <tr>\n",
       "      <th>1</th>\n",
       "      <td>0-32</td>\n",
       "      <td>0.004083</td>\n",
       "    </tr>\n",
       "    <tr>\n",
       "      <th>2</th>\n",
       "      <td>0-34</td>\n",
       "      <td>0.004083</td>\n",
       "    </tr>\n",
       "  </tbody>\n",
       "</table>\n",
       "</div>"
      ],
      "text/plain": [
       "  row_id    target\n",
       "0    0-4  0.001308\n",
       "1   0-32  0.004083\n",
       "2   0-34  0.004083"
      ]
     },
     "execution_count": 31,
     "metadata": {},
     "output_type": "execute_result"
    }
   ],
   "source": [
    "ypred0 = W0[0] * y_test1 + W0[1] * y_test2 + W0[2] * y_test3\n",
    "ypred1 = signed_power(y_test1, W1[0]) * signed_power(y_test2, W1[1]) * signed_power(y_test3, W1[2])\n",
    "\n",
    "ypredtest = np.clip((ypred0+ypred1)/2,0.0002, 0.071)\n",
    "print( ypred0[:3],  ypred1[:3], ypredtest[:3] )\n",
    "\n",
    "test['target'] = ypredtest\n",
    "test[['row_id', 'target']].to_csv('submission.csv',index = False)\n",
    "test[['row_id', 'target']].head(3)"
   ]
  }
 ],
 "metadata": {
  "kernelspec": {
   "display_name": "Python 3",
   "language": "python",
   "name": "python3"
  },
  "language_info": {
   "codemirror_mode": {
    "name": "ipython",
    "version": 3
   },
   "file_extension": ".py",
   "mimetype": "text/x-python",
   "name": "python",
   "nbconvert_exporter": "python",
   "pygments_lexer": "ipython3",
   "version": "3.7.10"
  },
  "papermill": {
   "default_parameters": {},
   "duration": 1341.049901,
   "end_time": "2021-09-22T22:34:00.119217",
   "environment_variables": {},
   "exception": null,
   "input_path": "__notebook__.ipynb",
   "output_path": "__notebook__.ipynb",
   "parameters": {},
   "start_time": "2021-09-22T22:11:39.069316",
   "version": "2.3.3"
  }
 },
 "nbformat": 4,
 "nbformat_minor": 5
}
